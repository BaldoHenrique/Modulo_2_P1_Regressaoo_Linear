{
  "cells": [
    {
      "cell_type": "markdown",
      "metadata": {
        "id": "dMW2-llVOJTM"
      },
      "source": [
        "# Projeto 1 - Predição da precificação de casas \n",
        "## House Sales in King County, USA - Kaggle"
      ]
    },
    {
      "cell_type": "markdown",
      "source": [
        "Nome: Henrique Grandi Baldo"
      ],
      "metadata": {
        "id": "xfx8L6Tg7mZ5"
      }
    },
    {
      "cell_type": "markdown",
      "metadata": {
        "id": "-8EVFWszOJTQ"
      },
      "source": [
        "## Introdução"
      ]
    },
    {
      "cell_type": "markdown",
      "metadata": {
        "id": "6PSg6SxDOJTR"
      },
      "source": [
        "Este é um conjunto de dados armazenado no Kaggle, uma plataforma de estudo e competições de Ciência de Dados. Segue a tradução sobre o conjunto de dados.\n",
        "\n",
        "**\"Este conjunto de dados contém preços de venda de casas para King County, que inclui Seattle. Inclui casas vendidas entre maio de 2014 e maio de 2015.\"**\n",
        "\n",
        "Segue a descrição das variaveis:\n",
        "\n",
        "- id - identificação unica para cada venda\n",
        "- date - data da venda\n",
        "- price - preço da venda\n",
        "- bedrooms - número de quartos\n",
        "- bathrooms - número de banheiros\n",
        "- sqft_living - tamanho da casa em pés quadrados\n",
        "- sqft_lot - tamanho do lote pés quadrados\n",
        "- floors - número de andares\n",
        "- waterfront - vista para praia, lago, rio...\n",
        "- view - Um índice de 0 a 4 de quão boa era a vista da propriedade\n",
        "- condition - condição da casa\n",
        "- grade - nota de qualidade (baseado no sistema de classificação do King County)\n",
        "- sqft_above - tamanho da área abaixo da casa em pés quadrados\n",
        "- sqft_basement - tamanho do porão em pés quadrados\n",
        "- yr_built - ano de construção\n",
        "- yr_renovated - ano da ultima reforma\n",
        "- zipcode - CEP\n",
        "- lat - latitude\n",
        "- long - longitude\n",
        "- sqft_living15 - Tamanho médio do espaço habitacional interior para as 15 casas mais próximas, em pés quadrados\n",
        "- sqft_lot15 - Tamanho médio dos lotes para as 15 casas mais próximas, em pés quadrados"
      ]
    },
    {
      "cell_type": "markdown",
      "metadata": {
        "id": "Bz4P4n0wOJTS"
      },
      "source": [
        "# Sobre este projeto\n",
        "\n",
        "Este é o seu primeiro projeto usando Ciência de Dados. Neste projeto treine os conhecimentos aprendidos até o momento e que entenda algumas das dificuldades que pode ter quando for aplicar os mesmos. \n",
        "\n",
        "Os principais pontos que serão avaliados:\n",
        "\n",
        "- Levantamento de hipoteses\n",
        "- Manipulação de dados e criação de gráficos simples com o `Pandas`\n",
        "- Criar um modelo usando regressão linear e justificar(métricas, r2 e erro(mse))"
      ]
    },
    {
      "cell_type": "markdown",
      "metadata": {
        "id": "h6yDtHJ0OJTS"
      },
      "source": [
        "# Preparação do ambiente\n",
        "\n",
        "- Acessem o link - https://www.kaggle.com/datasets/harlfoxem/housesalesprediction e logo abaixo cliquem em \"Download\". Caso voce não tenha uma conta no Kaggle, crie uma e retorne para esse ponto para realizar o download."
      ]
    },
    {
      "cell_type": "markdown",
      "source": [
        "Importando as bibliotecas necessárias para realização do projeto"
      ],
      "metadata": {
        "id": "Zl3w0sskb0UB"
      }
    },
    {
      "cell_type": "code",
      "source": [
        "# importando as bibliotecas necessárias:\n",
        "import pandas as pd\n",
        "import numpy as np\n",
        "import math\n",
        "import statistics\n",
        "\n",
        "import seaborn as sns\n",
        "import matplotlib.pyplot as plt\n",
        "import statsmodels.api as sm\n",
        "from patsy import dmatrices\n",
        "\n",
        "# bibliotecas para padronizar os dados e buscar pelas variaveis mais representativas\n",
        "from sklearn.preprocessing import StandardScaler\n",
        "from sklearn.feature_selection import RFE\n",
        "\n",
        "# separacao em treino/teste e modelo de regressao\n",
        "from sklearn.model_selection import train_test_split\n",
        "from sklearn.linear_model import LinearRegression\n",
        "\n",
        "# metricas\n",
        "from sklearn.metrics import r2_score, mean_absolute_error as mae"
      ],
      "metadata": {
        "id": "2exewbbsbzjN",
        "colab": {
          "base_uri": "https://localhost:8080/"
        },
        "outputId": "b07095b0-8a6a-4146-ba4a-61087bbdef26"
      },
      "execution_count": null,
      "outputs": [
        {
          "output_type": "stream",
          "name": "stderr",
          "text": [
            "/usr/local/lib/python3.7/dist-packages/statsmodels/tools/_testing.py:19: FutureWarning: pandas.util.testing is deprecated. Use the functions in the public API at pandas.testing instead.\n",
            "  import pandas.util.testing as tm\n"
          ]
        }
      ]
    },
    {
      "cell_type": "markdown",
      "source": [
        "Lendo o arquivo da base de dados, é necessario fazer o uploud do arquivo antes de rodar o code abaixo:"
      ],
      "metadata": {
        "id": "cKtifa05cs8f"
      }
    },
    {
      "cell_type": "code",
      "source": [
        "house = pd.read_csv('kc_house_data.csv')"
      ],
      "metadata": {
        "id": "uxp2UQ_Kdbmu"
      },
      "execution_count": null,
      "outputs": []
    },
    {
      "cell_type": "markdown",
      "source": [
        "Vamos testar o dataframe e dar uma olhada geral nas colunas"
      ],
      "metadata": {
        "id": "BUvlep1VTg-_"
      }
    },
    {
      "cell_type": "code",
      "source": [
        "house.head()"
      ],
      "metadata": {
        "colab": {
          "base_uri": "https://localhost:8080/",
          "height": 300
        },
        "id": "i5VsmAsfdq6F",
        "outputId": "f6720b51-ea15-4dc2-ac45-698c41b7e5e9"
      },
      "execution_count": null,
      "outputs": [
        {
          "output_type": "execute_result",
          "data": {
            "text/plain": [
              "           id             date     price  bedrooms  bathrooms  sqft_living  \\\n",
              "0  7129300520  20141013T000000  221900.0         3       1.00         1180   \n",
              "1  6414100192  20141209T000000  538000.0         3       2.25         2570   \n",
              "2  5631500400  20150225T000000  180000.0         2       1.00          770   \n",
              "3  2487200875  20141209T000000  604000.0         4       3.00         1960   \n",
              "4  1954400510  20150218T000000  510000.0         3       2.00         1680   \n",
              "\n",
              "   sqft_lot  floors  waterfront  view  ...  grade  sqft_above  sqft_basement  \\\n",
              "0      5650     1.0           0     0  ...      7        1180              0   \n",
              "1      7242     2.0           0     0  ...      7        2170            400   \n",
              "2     10000     1.0           0     0  ...      6         770              0   \n",
              "3      5000     1.0           0     0  ...      7        1050            910   \n",
              "4      8080     1.0           0     0  ...      8        1680              0   \n",
              "\n",
              "   yr_built  yr_renovated  zipcode      lat     long  sqft_living15  \\\n",
              "0      1955             0    98178  47.5112 -122.257           1340   \n",
              "1      1951          1991    98125  47.7210 -122.319           1690   \n",
              "2      1933             0    98028  47.7379 -122.233           2720   \n",
              "3      1965             0    98136  47.5208 -122.393           1360   \n",
              "4      1987             0    98074  47.6168 -122.045           1800   \n",
              "\n",
              "   sqft_lot15  \n",
              "0        5650  \n",
              "1        7639  \n",
              "2        8062  \n",
              "3        5000  \n",
              "4        7503  \n",
              "\n",
              "[5 rows x 21 columns]"
            ],
            "text/html": [
              "\n",
              "  <div id=\"df-aaed7c88-7d5f-4788-99c4-79691ea79e4f\">\n",
              "    <div class=\"colab-df-container\">\n",
              "      <div>\n",
              "<style scoped>\n",
              "    .dataframe tbody tr th:only-of-type {\n",
              "        vertical-align: middle;\n",
              "    }\n",
              "\n",
              "    .dataframe tbody tr th {\n",
              "        vertical-align: top;\n",
              "    }\n",
              "\n",
              "    .dataframe thead th {\n",
              "        text-align: right;\n",
              "    }\n",
              "</style>\n",
              "<table border=\"1\" class=\"dataframe\">\n",
              "  <thead>\n",
              "    <tr style=\"text-align: right;\">\n",
              "      <th></th>\n",
              "      <th>id</th>\n",
              "      <th>date</th>\n",
              "      <th>price</th>\n",
              "      <th>bedrooms</th>\n",
              "      <th>bathrooms</th>\n",
              "      <th>sqft_living</th>\n",
              "      <th>sqft_lot</th>\n",
              "      <th>floors</th>\n",
              "      <th>waterfront</th>\n",
              "      <th>view</th>\n",
              "      <th>...</th>\n",
              "      <th>grade</th>\n",
              "      <th>sqft_above</th>\n",
              "      <th>sqft_basement</th>\n",
              "      <th>yr_built</th>\n",
              "      <th>yr_renovated</th>\n",
              "      <th>zipcode</th>\n",
              "      <th>lat</th>\n",
              "      <th>long</th>\n",
              "      <th>sqft_living15</th>\n",
              "      <th>sqft_lot15</th>\n",
              "    </tr>\n",
              "  </thead>\n",
              "  <tbody>\n",
              "    <tr>\n",
              "      <th>0</th>\n",
              "      <td>7129300520</td>\n",
              "      <td>20141013T000000</td>\n",
              "      <td>221900.0</td>\n",
              "      <td>3</td>\n",
              "      <td>1.00</td>\n",
              "      <td>1180</td>\n",
              "      <td>5650</td>\n",
              "      <td>1.0</td>\n",
              "      <td>0</td>\n",
              "      <td>0</td>\n",
              "      <td>...</td>\n",
              "      <td>7</td>\n",
              "      <td>1180</td>\n",
              "      <td>0</td>\n",
              "      <td>1955</td>\n",
              "      <td>0</td>\n",
              "      <td>98178</td>\n",
              "      <td>47.5112</td>\n",
              "      <td>-122.257</td>\n",
              "      <td>1340</td>\n",
              "      <td>5650</td>\n",
              "    </tr>\n",
              "    <tr>\n",
              "      <th>1</th>\n",
              "      <td>6414100192</td>\n",
              "      <td>20141209T000000</td>\n",
              "      <td>538000.0</td>\n",
              "      <td>3</td>\n",
              "      <td>2.25</td>\n",
              "      <td>2570</td>\n",
              "      <td>7242</td>\n",
              "      <td>2.0</td>\n",
              "      <td>0</td>\n",
              "      <td>0</td>\n",
              "      <td>...</td>\n",
              "      <td>7</td>\n",
              "      <td>2170</td>\n",
              "      <td>400</td>\n",
              "      <td>1951</td>\n",
              "      <td>1991</td>\n",
              "      <td>98125</td>\n",
              "      <td>47.7210</td>\n",
              "      <td>-122.319</td>\n",
              "      <td>1690</td>\n",
              "      <td>7639</td>\n",
              "    </tr>\n",
              "    <tr>\n",
              "      <th>2</th>\n",
              "      <td>5631500400</td>\n",
              "      <td>20150225T000000</td>\n",
              "      <td>180000.0</td>\n",
              "      <td>2</td>\n",
              "      <td>1.00</td>\n",
              "      <td>770</td>\n",
              "      <td>10000</td>\n",
              "      <td>1.0</td>\n",
              "      <td>0</td>\n",
              "      <td>0</td>\n",
              "      <td>...</td>\n",
              "      <td>6</td>\n",
              "      <td>770</td>\n",
              "      <td>0</td>\n",
              "      <td>1933</td>\n",
              "      <td>0</td>\n",
              "      <td>98028</td>\n",
              "      <td>47.7379</td>\n",
              "      <td>-122.233</td>\n",
              "      <td>2720</td>\n",
              "      <td>8062</td>\n",
              "    </tr>\n",
              "    <tr>\n",
              "      <th>3</th>\n",
              "      <td>2487200875</td>\n",
              "      <td>20141209T000000</td>\n",
              "      <td>604000.0</td>\n",
              "      <td>4</td>\n",
              "      <td>3.00</td>\n",
              "      <td>1960</td>\n",
              "      <td>5000</td>\n",
              "      <td>1.0</td>\n",
              "      <td>0</td>\n",
              "      <td>0</td>\n",
              "      <td>...</td>\n",
              "      <td>7</td>\n",
              "      <td>1050</td>\n",
              "      <td>910</td>\n",
              "      <td>1965</td>\n",
              "      <td>0</td>\n",
              "      <td>98136</td>\n",
              "      <td>47.5208</td>\n",
              "      <td>-122.393</td>\n",
              "      <td>1360</td>\n",
              "      <td>5000</td>\n",
              "    </tr>\n",
              "    <tr>\n",
              "      <th>4</th>\n",
              "      <td>1954400510</td>\n",
              "      <td>20150218T000000</td>\n",
              "      <td>510000.0</td>\n",
              "      <td>3</td>\n",
              "      <td>2.00</td>\n",
              "      <td>1680</td>\n",
              "      <td>8080</td>\n",
              "      <td>1.0</td>\n",
              "      <td>0</td>\n",
              "      <td>0</td>\n",
              "      <td>...</td>\n",
              "      <td>8</td>\n",
              "      <td>1680</td>\n",
              "      <td>0</td>\n",
              "      <td>1987</td>\n",
              "      <td>0</td>\n",
              "      <td>98074</td>\n",
              "      <td>47.6168</td>\n",
              "      <td>-122.045</td>\n",
              "      <td>1800</td>\n",
              "      <td>7503</td>\n",
              "    </tr>\n",
              "  </tbody>\n",
              "</table>\n",
              "<p>5 rows × 21 columns</p>\n",
              "</div>\n",
              "      <button class=\"colab-df-convert\" onclick=\"convertToInteractive('df-aaed7c88-7d5f-4788-99c4-79691ea79e4f')\"\n",
              "              title=\"Convert this dataframe to an interactive table.\"\n",
              "              style=\"display:none;\">\n",
              "        \n",
              "  <svg xmlns=\"http://www.w3.org/2000/svg\" height=\"24px\"viewBox=\"0 0 24 24\"\n",
              "       width=\"24px\">\n",
              "    <path d=\"M0 0h24v24H0V0z\" fill=\"none\"/>\n",
              "    <path d=\"M18.56 5.44l.94 2.06.94-2.06 2.06-.94-2.06-.94-.94-2.06-.94 2.06-2.06.94zm-11 1L8.5 8.5l.94-2.06 2.06-.94-2.06-.94L8.5 2.5l-.94 2.06-2.06.94zm10 10l.94 2.06.94-2.06 2.06-.94-2.06-.94-.94-2.06-.94 2.06-2.06.94z\"/><path d=\"M17.41 7.96l-1.37-1.37c-.4-.4-.92-.59-1.43-.59-.52 0-1.04.2-1.43.59L10.3 9.45l-7.72 7.72c-.78.78-.78 2.05 0 2.83L4 21.41c.39.39.9.59 1.41.59.51 0 1.02-.2 1.41-.59l7.78-7.78 2.81-2.81c.8-.78.8-2.07 0-2.86zM5.41 20L4 18.59l7.72-7.72 1.47 1.35L5.41 20z\"/>\n",
              "  </svg>\n",
              "      </button>\n",
              "      \n",
              "  <style>\n",
              "    .colab-df-container {\n",
              "      display:flex;\n",
              "      flex-wrap:wrap;\n",
              "      gap: 12px;\n",
              "    }\n",
              "\n",
              "    .colab-df-convert {\n",
              "      background-color: #E8F0FE;\n",
              "      border: none;\n",
              "      border-radius: 50%;\n",
              "      cursor: pointer;\n",
              "      display: none;\n",
              "      fill: #1967D2;\n",
              "      height: 32px;\n",
              "      padding: 0 0 0 0;\n",
              "      width: 32px;\n",
              "    }\n",
              "\n",
              "    .colab-df-convert:hover {\n",
              "      background-color: #E2EBFA;\n",
              "      box-shadow: 0px 1px 2px rgba(60, 64, 67, 0.3), 0px 1px 3px 1px rgba(60, 64, 67, 0.15);\n",
              "      fill: #174EA6;\n",
              "    }\n",
              "\n",
              "    [theme=dark] .colab-df-convert {\n",
              "      background-color: #3B4455;\n",
              "      fill: #D2E3FC;\n",
              "    }\n",
              "\n",
              "    [theme=dark] .colab-df-convert:hover {\n",
              "      background-color: #434B5C;\n",
              "      box-shadow: 0px 1px 3px 1px rgba(0, 0, 0, 0.15);\n",
              "      filter: drop-shadow(0px 1px 2px rgba(0, 0, 0, 0.3));\n",
              "      fill: #FFFFFF;\n",
              "    }\n",
              "  </style>\n",
              "\n",
              "      <script>\n",
              "        const buttonEl =\n",
              "          document.querySelector('#df-aaed7c88-7d5f-4788-99c4-79691ea79e4f button.colab-df-convert');\n",
              "        buttonEl.style.display =\n",
              "          google.colab.kernel.accessAllowed ? 'block' : 'none';\n",
              "\n",
              "        async function convertToInteractive(key) {\n",
              "          const element = document.querySelector('#df-aaed7c88-7d5f-4788-99c4-79691ea79e4f');\n",
              "          const dataTable =\n",
              "            await google.colab.kernel.invokeFunction('convertToInteractive',\n",
              "                                                     [key], {});\n",
              "          if (!dataTable) return;\n",
              "\n",
              "          const docLinkHtml = 'Like what you see? Visit the ' +\n",
              "            '<a target=\"_blank\" href=https://colab.research.google.com/notebooks/data_table.ipynb>data table notebook</a>'\n",
              "            + ' to learn more about interactive tables.';\n",
              "          element.innerHTML = '';\n",
              "          dataTable['output_type'] = 'display_data';\n",
              "          await google.colab.output.renderOutput(dataTable, element);\n",
              "          const docLink = document.createElement('div');\n",
              "          docLink.innerHTML = docLinkHtml;\n",
              "          element.appendChild(docLink);\n",
              "        }\n",
              "      </script>\n",
              "    </div>\n",
              "  </div>\n",
              "  "
            ]
          },
          "metadata": {},
          "execution_count": 3
        }
      ]
    },
    {
      "cell_type": "markdown",
      "source": [
        "Vamos ver com quantas colunas e linhas estamos trabalhando "
      ],
      "metadata": {
        "id": "vJ93I04ATq0h"
      }
    },
    {
      "cell_type": "code",
      "source": [
        "house.shape"
      ],
      "metadata": {
        "colab": {
          "base_uri": "https://localhost:8080/"
        },
        "id": "u2ljLgR6ESyN",
        "outputId": "e87cf44f-b6de-4379-be04-1f2fdc010ddc"
      },
      "execution_count": null,
      "outputs": [
        {
          "output_type": "execute_result",
          "data": {
            "text/plain": [
              "(21613, 21)"
            ]
          },
          "metadata": {},
          "execution_count": 4
        }
      ]
    },
    {
      "cell_type": "markdown",
      "metadata": {
        "id": "UGGdq60aOJTT"
      },
      "source": [
        "# Exercicio 1. (0.5 pontos)\n",
        "\n",
        "* Formule ao menos duas perguntas que você acha que poderiam ser respondidas usando os dados\n",
        "* RESPOSTA (VALE 0.5 pontos)\n",
        "* Bom, vamos nos situar, estamos trabalhando com dados de casas, como visto anteriormente, temos 21 variaveis e 21613 linhas. O objetivo dessas variaveis é mostrar que atravez delas podemos predizer o valor de determinada casa. Então, temos que procurar por dependencia das variaveis em relação ao preço, o quanto cada variavel interefe no preço. Para isso iremos, mais a diante, fazer análises de todos os dados, olhar para eles separadamente mas por agora ficam duas perguntas:"
      ]
    },
    {
      "cell_type": "markdown",
      "source": [
        "1. **PERGUNTA:** Olhando o significado de todas as variáveis, tem duas que nos chamam a atenção, \"sqft_living15\" e \"sqft_lot15\". Fazem sentido estarem na base de dados, explique um pouco mais sobre elas.\n",
        "\n",
        "\n"
      ],
      "metadata": {
        "id": "5y2WPfVSW7ni"
      }
    },
    {
      "cell_type": "markdown",
      "source": [
        "**RESPOSTA:** Essas duas variáveis refere-se a área média das 15 casas e dos 15 terrenos mais próximos, dos vizinhos. Assim, de primeira impressão não faz muito sentido estarem numa tabela que compara preços mas acredito que essas medidas mostram como é a região, como é o bairro em si e isso com toda certeza ajuda a valorizar um imóvel. Então a comparação que podemos fazer é olhar para essa média dos vizinhos e comparar com a área da casa em questão. Desta maneira já temos a noção se aquela casa é grande ou pequena em relação ao seu bairro. Com toda a certeza essas variáveis têm influência em seus preços. Hoje é normal do ser humano olhar ao redor para se sentir \"bem\", há controvercias, mas essa discussão podemos deixar para outra hora. O que temos que ressalvar aqui é que não temos noção do tamanho do impacto no preço, e esse impacto tentaremos conhecer mais para frente. "
      ],
      "metadata": {
        "id": "tdtLnDkGZX20"
      }
    },
    {
      "cell_type": "markdown",
      "source": [
        "2. **PERGUNTA** Olhando a grosso modo para as variáveis, sem fazer uma análise profunda, quais a princípio interferem mais no preço, levando em conta o seu conhecimento empírico."
      ],
      "metadata": {
        "id": "VjW7j3Qdaa54"
      }
    },
    {
      "cell_type": "markdown",
      "source": [
        "**RESPOSTA:** Quando as pessoas vão olhar casas, a primeira pergunta é, quantos quartos e quantos banheiros, não é a toa que são as primeiras variáveis dessa nossa base de dados, até mesmo antes do tamanho em si da casa, porque não adianta ter uma casa gigante com poucos quartos. Isso também responde o por que temos tantas variáveis para definir o valor da casa, são inúmeros detalhes que temos que levar em conta. Tirando as áreas da casa e do terreno e o número de banheiros e quartos, vamos escolher outras 3 váriaveis que consideraria numa possível escolha, em ordem de importância: zipcode(CEP -considero a localização primordial na escolha, porque precisamos nos deslocar para trabalhar, lazer, estudo...), condition(condição da casa - o quanto ela esta cuidada, aparência em si), view(a vista da casa, acodar e tem uma boa vista pode ser motivante para o resto do dia). "
      ],
      "metadata": {
        "id": "jkSWtyxUbiZW"
      }
    },
    {
      "cell_type": "markdown",
      "metadata": {
        "id": "b4mz7E2bOJTU"
      },
      "source": [
        "# Exercicio 2. (2.5 pontos)\n",
        "\n",
        "A capacidade de comunicação é um dos principais pontos na análise de dados, pois sua análise deve ser tão boa quanto a sua capacidade de comunicá-la. Para isso usamos tabelas resumo e gráficos para apresentar os principais achados do trabalho realizado. Podemos adicionar outros materias que possam aprofundar essa apresentação como artigos e outros estudos realizados.\n",
        "\n",
        "Assim, qual visualização você acha interessante destacar? RESPOSTA(VALE 0.75 pontos) "
      ]
    },
    {
      "cell_type": "code",
      "source": [
        "#### (VALE 1.5 pontos)\n",
        "#### CONSTRUA O SEU GRAFICO ABAIXO, USE MAIS CELULAS SE NECESSARIO"
      ],
      "metadata": {
        "id": "qnyTrJXIVhLZ"
      },
      "execution_count": null,
      "outputs": []
    },
    {
      "cell_type": "markdown",
      "source": [
        "- Para começar a análise dos dados, vamos olhar para todas as colunas, já sabemos o que cada uma representa, porem agora temos que começar a entender o porque delas estarem ali e se tem alguma que podemos retirar logo de começo.\n",
        "- Para deixar mais limpa a nossa base de dados, vamos começar excluindo a coluna 'id', pois ela apenas nos traz a identificação das casas, o que não nos é util para uma futura análise de regressão linear, pois, não há relação com o preço das casas."
      ],
      "metadata": {
        "id": "NyFkopiO8_J3"
      }
    },
    {
      "cell_type": "code",
      "source": [
        "house = house.drop(columns = ['id'])"
      ],
      "metadata": {
        "id": "nYlVEfOL8-Ma"
      },
      "execution_count": null,
      "outputs": []
    },
    {
      "cell_type": "code",
      "source": [
        "house.head()"
      ],
      "metadata": {
        "colab": {
          "base_uri": "https://localhost:8080/",
          "height": 270
        },
        "id": "jhQnRDcJRDSd",
        "outputId": "85e9b1be-488b-43a5-f49b-befd8063de4f"
      },
      "execution_count": null,
      "outputs": [
        {
          "output_type": "execute_result",
          "data": {
            "text/plain": [
              "              date     price  bedrooms  bathrooms  sqft_living  sqft_lot  \\\n",
              "0  20141013T000000  221900.0         3       1.00         1180      5650   \n",
              "1  20141209T000000  538000.0         3       2.25         2570      7242   \n",
              "2  20150225T000000  180000.0         2       1.00          770     10000   \n",
              "3  20141209T000000  604000.0         4       3.00         1960      5000   \n",
              "4  20150218T000000  510000.0         3       2.00         1680      8080   \n",
              "\n",
              "   floors  waterfront  view  condition  grade  sqft_above  sqft_basement  \\\n",
              "0     1.0           0     0          3      7        1180              0   \n",
              "1     2.0           0     0          3      7        2170            400   \n",
              "2     1.0           0     0          3      6         770              0   \n",
              "3     1.0           0     0          5      7        1050            910   \n",
              "4     1.0           0     0          3      8        1680              0   \n",
              "\n",
              "   yr_built  yr_renovated  zipcode      lat     long  sqft_living15  \\\n",
              "0      1955             0    98178  47.5112 -122.257           1340   \n",
              "1      1951          1991    98125  47.7210 -122.319           1690   \n",
              "2      1933             0    98028  47.7379 -122.233           2720   \n",
              "3      1965             0    98136  47.5208 -122.393           1360   \n",
              "4      1987             0    98074  47.6168 -122.045           1800   \n",
              "\n",
              "   sqft_lot15  \n",
              "0        5650  \n",
              "1        7639  \n",
              "2        8062  \n",
              "3        5000  \n",
              "4        7503  "
            ],
            "text/html": [
              "\n",
              "  <div id=\"df-87df238f-7356-4465-994b-94ed95e31c21\">\n",
              "    <div class=\"colab-df-container\">\n",
              "      <div>\n",
              "<style scoped>\n",
              "    .dataframe tbody tr th:only-of-type {\n",
              "        vertical-align: middle;\n",
              "    }\n",
              "\n",
              "    .dataframe tbody tr th {\n",
              "        vertical-align: top;\n",
              "    }\n",
              "\n",
              "    .dataframe thead th {\n",
              "        text-align: right;\n",
              "    }\n",
              "</style>\n",
              "<table border=\"1\" class=\"dataframe\">\n",
              "  <thead>\n",
              "    <tr style=\"text-align: right;\">\n",
              "      <th></th>\n",
              "      <th>date</th>\n",
              "      <th>price</th>\n",
              "      <th>bedrooms</th>\n",
              "      <th>bathrooms</th>\n",
              "      <th>sqft_living</th>\n",
              "      <th>sqft_lot</th>\n",
              "      <th>floors</th>\n",
              "      <th>waterfront</th>\n",
              "      <th>view</th>\n",
              "      <th>condition</th>\n",
              "      <th>grade</th>\n",
              "      <th>sqft_above</th>\n",
              "      <th>sqft_basement</th>\n",
              "      <th>yr_built</th>\n",
              "      <th>yr_renovated</th>\n",
              "      <th>zipcode</th>\n",
              "      <th>lat</th>\n",
              "      <th>long</th>\n",
              "      <th>sqft_living15</th>\n",
              "      <th>sqft_lot15</th>\n",
              "    </tr>\n",
              "  </thead>\n",
              "  <tbody>\n",
              "    <tr>\n",
              "      <th>0</th>\n",
              "      <td>20141013T000000</td>\n",
              "      <td>221900.0</td>\n",
              "      <td>3</td>\n",
              "      <td>1.00</td>\n",
              "      <td>1180</td>\n",
              "      <td>5650</td>\n",
              "      <td>1.0</td>\n",
              "      <td>0</td>\n",
              "      <td>0</td>\n",
              "      <td>3</td>\n",
              "      <td>7</td>\n",
              "      <td>1180</td>\n",
              "      <td>0</td>\n",
              "      <td>1955</td>\n",
              "      <td>0</td>\n",
              "      <td>98178</td>\n",
              "      <td>47.5112</td>\n",
              "      <td>-122.257</td>\n",
              "      <td>1340</td>\n",
              "      <td>5650</td>\n",
              "    </tr>\n",
              "    <tr>\n",
              "      <th>1</th>\n",
              "      <td>20141209T000000</td>\n",
              "      <td>538000.0</td>\n",
              "      <td>3</td>\n",
              "      <td>2.25</td>\n",
              "      <td>2570</td>\n",
              "      <td>7242</td>\n",
              "      <td>2.0</td>\n",
              "      <td>0</td>\n",
              "      <td>0</td>\n",
              "      <td>3</td>\n",
              "      <td>7</td>\n",
              "      <td>2170</td>\n",
              "      <td>400</td>\n",
              "      <td>1951</td>\n",
              "      <td>1991</td>\n",
              "      <td>98125</td>\n",
              "      <td>47.7210</td>\n",
              "      <td>-122.319</td>\n",
              "      <td>1690</td>\n",
              "      <td>7639</td>\n",
              "    </tr>\n",
              "    <tr>\n",
              "      <th>2</th>\n",
              "      <td>20150225T000000</td>\n",
              "      <td>180000.0</td>\n",
              "      <td>2</td>\n",
              "      <td>1.00</td>\n",
              "      <td>770</td>\n",
              "      <td>10000</td>\n",
              "      <td>1.0</td>\n",
              "      <td>0</td>\n",
              "      <td>0</td>\n",
              "      <td>3</td>\n",
              "      <td>6</td>\n",
              "      <td>770</td>\n",
              "      <td>0</td>\n",
              "      <td>1933</td>\n",
              "      <td>0</td>\n",
              "      <td>98028</td>\n",
              "      <td>47.7379</td>\n",
              "      <td>-122.233</td>\n",
              "      <td>2720</td>\n",
              "      <td>8062</td>\n",
              "    </tr>\n",
              "    <tr>\n",
              "      <th>3</th>\n",
              "      <td>20141209T000000</td>\n",
              "      <td>604000.0</td>\n",
              "      <td>4</td>\n",
              "      <td>3.00</td>\n",
              "      <td>1960</td>\n",
              "      <td>5000</td>\n",
              "      <td>1.0</td>\n",
              "      <td>0</td>\n",
              "      <td>0</td>\n",
              "      <td>5</td>\n",
              "      <td>7</td>\n",
              "      <td>1050</td>\n",
              "      <td>910</td>\n",
              "      <td>1965</td>\n",
              "      <td>0</td>\n",
              "      <td>98136</td>\n",
              "      <td>47.5208</td>\n",
              "      <td>-122.393</td>\n",
              "      <td>1360</td>\n",
              "      <td>5000</td>\n",
              "    </tr>\n",
              "    <tr>\n",
              "      <th>4</th>\n",
              "      <td>20150218T000000</td>\n",
              "      <td>510000.0</td>\n",
              "      <td>3</td>\n",
              "      <td>2.00</td>\n",
              "      <td>1680</td>\n",
              "      <td>8080</td>\n",
              "      <td>1.0</td>\n",
              "      <td>0</td>\n",
              "      <td>0</td>\n",
              "      <td>3</td>\n",
              "      <td>8</td>\n",
              "      <td>1680</td>\n",
              "      <td>0</td>\n",
              "      <td>1987</td>\n",
              "      <td>0</td>\n",
              "      <td>98074</td>\n",
              "      <td>47.6168</td>\n",
              "      <td>-122.045</td>\n",
              "      <td>1800</td>\n",
              "      <td>7503</td>\n",
              "    </tr>\n",
              "  </tbody>\n",
              "</table>\n",
              "</div>\n",
              "      <button class=\"colab-df-convert\" onclick=\"convertToInteractive('df-87df238f-7356-4465-994b-94ed95e31c21')\"\n",
              "              title=\"Convert this dataframe to an interactive table.\"\n",
              "              style=\"display:none;\">\n",
              "        \n",
              "  <svg xmlns=\"http://www.w3.org/2000/svg\" height=\"24px\"viewBox=\"0 0 24 24\"\n",
              "       width=\"24px\">\n",
              "    <path d=\"M0 0h24v24H0V0z\" fill=\"none\"/>\n",
              "    <path d=\"M18.56 5.44l.94 2.06.94-2.06 2.06-.94-2.06-.94-.94-2.06-.94 2.06-2.06.94zm-11 1L8.5 8.5l.94-2.06 2.06-.94-2.06-.94L8.5 2.5l-.94 2.06-2.06.94zm10 10l.94 2.06.94-2.06 2.06-.94-2.06-.94-.94-2.06-.94 2.06-2.06.94z\"/><path d=\"M17.41 7.96l-1.37-1.37c-.4-.4-.92-.59-1.43-.59-.52 0-1.04.2-1.43.59L10.3 9.45l-7.72 7.72c-.78.78-.78 2.05 0 2.83L4 21.41c.39.39.9.59 1.41.59.51 0 1.02-.2 1.41-.59l7.78-7.78 2.81-2.81c.8-.78.8-2.07 0-2.86zM5.41 20L4 18.59l7.72-7.72 1.47 1.35L5.41 20z\"/>\n",
              "  </svg>\n",
              "      </button>\n",
              "      \n",
              "  <style>\n",
              "    .colab-df-container {\n",
              "      display:flex;\n",
              "      flex-wrap:wrap;\n",
              "      gap: 12px;\n",
              "    }\n",
              "\n",
              "    .colab-df-convert {\n",
              "      background-color: #E8F0FE;\n",
              "      border: none;\n",
              "      border-radius: 50%;\n",
              "      cursor: pointer;\n",
              "      display: none;\n",
              "      fill: #1967D2;\n",
              "      height: 32px;\n",
              "      padding: 0 0 0 0;\n",
              "      width: 32px;\n",
              "    }\n",
              "\n",
              "    .colab-df-convert:hover {\n",
              "      background-color: #E2EBFA;\n",
              "      box-shadow: 0px 1px 2px rgba(60, 64, 67, 0.3), 0px 1px 3px 1px rgba(60, 64, 67, 0.15);\n",
              "      fill: #174EA6;\n",
              "    }\n",
              "\n",
              "    [theme=dark] .colab-df-convert {\n",
              "      background-color: #3B4455;\n",
              "      fill: #D2E3FC;\n",
              "    }\n",
              "\n",
              "    [theme=dark] .colab-df-convert:hover {\n",
              "      background-color: #434B5C;\n",
              "      box-shadow: 0px 1px 3px 1px rgba(0, 0, 0, 0.15);\n",
              "      filter: drop-shadow(0px 1px 2px rgba(0, 0, 0, 0.3));\n",
              "      fill: #FFFFFF;\n",
              "    }\n",
              "  </style>\n",
              "\n",
              "      <script>\n",
              "        const buttonEl =\n",
              "          document.querySelector('#df-87df238f-7356-4465-994b-94ed95e31c21 button.colab-df-convert');\n",
              "        buttonEl.style.display =\n",
              "          google.colab.kernel.accessAllowed ? 'block' : 'none';\n",
              "\n",
              "        async function convertToInteractive(key) {\n",
              "          const element = document.querySelector('#df-87df238f-7356-4465-994b-94ed95e31c21');\n",
              "          const dataTable =\n",
              "            await google.colab.kernel.invokeFunction('convertToInteractive',\n",
              "                                                     [key], {});\n",
              "          if (!dataTable) return;\n",
              "\n",
              "          const docLinkHtml = 'Like what you see? Visit the ' +\n",
              "            '<a target=\"_blank\" href=https://colab.research.google.com/notebooks/data_table.ipynb>data table notebook</a>'\n",
              "            + ' to learn more about interactive tables.';\n",
              "          element.innerHTML = '';\n",
              "          dataTable['output_type'] = 'display_data';\n",
              "          await google.colab.output.renderOutput(dataTable, element);\n",
              "          const docLink = document.createElement('div');\n",
              "          docLink.innerHTML = docLinkHtml;\n",
              "          element.appendChild(docLink);\n",
              "        }\n",
              "      </script>\n",
              "    </div>\n",
              "  </div>\n",
              "  "
            ]
          },
          "metadata": {},
          "execution_count": 7
        }
      ]
    },
    {
      "cell_type": "markdown",
      "source": [
        "Podemos ver também, olhando para a tabela, que a coluna 'date' talvez possa ser retirada da nossa análise."
      ],
      "metadata": {
        "id": "Vx5EBv3HROVu"
      }
    },
    {
      "cell_type": "code",
      "source": [
        "house['date'].sort_values()"
      ],
      "metadata": {
        "colab": {
          "base_uri": "https://localhost:8080/"
        },
        "id": "XVbQzTGVSAM9",
        "outputId": "73e4afec-4eae-4ddf-8b12-881a98b8afa9"
      },
      "execution_count": null,
      "outputs": [
        {
          "output_type": "execute_result",
          "data": {
            "text/plain": [
              "16768    20140502T000000\n",
              "9596     20140502T000000\n",
              "9587     20140502T000000\n",
              "20602    20140502T000000\n",
              "11577    20140502T000000\n",
              "              ...       \n",
              "7898     20150514T000000\n",
              "928      20150514T000000\n",
              "5637     20150515T000000\n",
              "13053    20150524T000000\n",
              "16594    20150527T000000\n",
              "Name: date, Length: 21613, dtype: object"
            ]
          },
          "metadata": {},
          "execution_count": 8
        }
      ]
    },
    {
      "cell_type": "markdown",
      "source": [
        "Essa variavel nos trás a data que foram feitas as vendas, porem por se tratar de datas muito proximas elas possam mais atrapalhar que ajudar na análise, as casas não tendem a valorizar ou desvalorizar, significantemente, em tão pouco tempo"
      ],
      "metadata": {
        "id": "r36s4PW5STAd"
      }
    },
    {
      "cell_type": "code",
      "source": [
        "house = house.drop(columns = ['date'])"
      ],
      "metadata": {
        "id": "xlZtIURnSnVN"
      },
      "execution_count": null,
      "outputs": []
    },
    {
      "cell_type": "markdown",
      "source": [
        "Como podemos constatar, as áreas estão todas em pés quadrados, uma medida americana, então temos que transformar as unidades de medidas. Vamos trabalhar com metros quadrados para melhorar o nosso entendimento, usaremos a transformação 1ft² = 0.092903m² para todas as colunas que trabalham com áreas."
      ],
      "metadata": {
        "id": "in07FFR15uhY"
      }
    },
    {
      "cell_type": "code",
      "source": [
        "house['sqft_living'] = round(house['sqft_living']*0.092903,2) \n",
        "house['sqft_lot'] = round(house['sqft_lot']*0.092903,2)\n",
        "house['sqft_above'] = round(house['sqft_above']*0.092903,2) \n",
        "house['sqft_basement'] = round(house['sqft_basement']*0.092903,2) \n",
        "house['sqft_living15'] = round(house['sqft_living15']*0.092903,2) \n",
        "house['sqft_lot15'] = round(house['sqft_lot15']*0.092903,2) "
      ],
      "metadata": {
        "id": "T0nEfzl56EA1"
      },
      "execution_count": null,
      "outputs": []
    },
    {
      "cell_type": "markdown",
      "source": [
        "- Agora vamos fazer uma análise um pouco mais profunda\n",
        "- Vamos começar analisando o tamanho da casa em relação ao tamanho das casas dos vizinhos para entender se é possível saber o quanto isso impacta no preço. Para isso criarei uma variável com a diferença entre o tamanho da casa e a dos vizinhos"
      ],
      "metadata": {
        "id": "e65TfTqO-Zi7"
      }
    },
    {
      "cell_type": "code",
      "source": [
        "house['comp_living'] = house['sqft_living']- house['sqft_living15']\n",
        "house['comp_lot'] = house['sqft_lot']- house['sqft_lot15']\n",
        "house.head()"
      ],
      "metadata": {
        "colab": {
          "base_uri": "https://localhost:8080/",
          "height": 300
        },
        "id": "W2Yc5Iq1UvF3",
        "outputId": "aa6012ac-c5ce-4f36-c32f-353189ff11de"
      },
      "execution_count": null,
      "outputs": [
        {
          "output_type": "execute_result",
          "data": {
            "text/plain": [
              "      price  bedrooms  bathrooms  sqft_living  sqft_lot  floors  waterfront  \\\n",
              "0  221900.0         3       1.00       109.63    524.90     1.0           0   \n",
              "1  538000.0         3       2.25       238.76    672.80     2.0           0   \n",
              "2  180000.0         2       1.00        71.54    929.03     1.0           0   \n",
              "3  604000.0         4       3.00       182.09    464.52     1.0           0   \n",
              "4  510000.0         3       2.00       156.08    750.66     1.0           0   \n",
              "\n",
              "   view  condition  grade  ...  sqft_basement  yr_built  yr_renovated  \\\n",
              "0     0          3      7  ...           0.00      1955             0   \n",
              "1     0          3      7  ...          37.16      1951          1991   \n",
              "2     0          3      6  ...           0.00      1933             0   \n",
              "3     0          5      7  ...          84.54      1965             0   \n",
              "4     0          3      8  ...           0.00      1987             0   \n",
              "\n",
              "   zipcode      lat     long  sqft_living15  sqft_lot15  comp_living  comp_lot  \n",
              "0    98178  47.5112 -122.257         124.49      524.90       -14.86      0.00  \n",
              "1    98125  47.7210 -122.319         157.01      709.69        81.75    -36.89  \n",
              "2    98028  47.7379 -122.233         252.70      748.98      -181.16    180.05  \n",
              "3    98136  47.5208 -122.393         126.35      464.52        55.74      0.00  \n",
              "4    98074  47.6168 -122.045         167.23      697.05       -11.15     53.61  \n",
              "\n",
              "[5 rows x 21 columns]"
            ],
            "text/html": [
              "\n",
              "  <div id=\"df-4b60aa46-6035-4bcc-af16-61d918f51db2\">\n",
              "    <div class=\"colab-df-container\">\n",
              "      <div>\n",
              "<style scoped>\n",
              "    .dataframe tbody tr th:only-of-type {\n",
              "        vertical-align: middle;\n",
              "    }\n",
              "\n",
              "    .dataframe tbody tr th {\n",
              "        vertical-align: top;\n",
              "    }\n",
              "\n",
              "    .dataframe thead th {\n",
              "        text-align: right;\n",
              "    }\n",
              "</style>\n",
              "<table border=\"1\" class=\"dataframe\">\n",
              "  <thead>\n",
              "    <tr style=\"text-align: right;\">\n",
              "      <th></th>\n",
              "      <th>price</th>\n",
              "      <th>bedrooms</th>\n",
              "      <th>bathrooms</th>\n",
              "      <th>sqft_living</th>\n",
              "      <th>sqft_lot</th>\n",
              "      <th>floors</th>\n",
              "      <th>waterfront</th>\n",
              "      <th>view</th>\n",
              "      <th>condition</th>\n",
              "      <th>grade</th>\n",
              "      <th>...</th>\n",
              "      <th>sqft_basement</th>\n",
              "      <th>yr_built</th>\n",
              "      <th>yr_renovated</th>\n",
              "      <th>zipcode</th>\n",
              "      <th>lat</th>\n",
              "      <th>long</th>\n",
              "      <th>sqft_living15</th>\n",
              "      <th>sqft_lot15</th>\n",
              "      <th>comp_living</th>\n",
              "      <th>comp_lot</th>\n",
              "    </tr>\n",
              "  </thead>\n",
              "  <tbody>\n",
              "    <tr>\n",
              "      <th>0</th>\n",
              "      <td>221900.0</td>\n",
              "      <td>3</td>\n",
              "      <td>1.00</td>\n",
              "      <td>109.63</td>\n",
              "      <td>524.90</td>\n",
              "      <td>1.0</td>\n",
              "      <td>0</td>\n",
              "      <td>0</td>\n",
              "      <td>3</td>\n",
              "      <td>7</td>\n",
              "      <td>...</td>\n",
              "      <td>0.00</td>\n",
              "      <td>1955</td>\n",
              "      <td>0</td>\n",
              "      <td>98178</td>\n",
              "      <td>47.5112</td>\n",
              "      <td>-122.257</td>\n",
              "      <td>124.49</td>\n",
              "      <td>524.90</td>\n",
              "      <td>-14.86</td>\n",
              "      <td>0.00</td>\n",
              "    </tr>\n",
              "    <tr>\n",
              "      <th>1</th>\n",
              "      <td>538000.0</td>\n",
              "      <td>3</td>\n",
              "      <td>2.25</td>\n",
              "      <td>238.76</td>\n",
              "      <td>672.80</td>\n",
              "      <td>2.0</td>\n",
              "      <td>0</td>\n",
              "      <td>0</td>\n",
              "      <td>3</td>\n",
              "      <td>7</td>\n",
              "      <td>...</td>\n",
              "      <td>37.16</td>\n",
              "      <td>1951</td>\n",
              "      <td>1991</td>\n",
              "      <td>98125</td>\n",
              "      <td>47.7210</td>\n",
              "      <td>-122.319</td>\n",
              "      <td>157.01</td>\n",
              "      <td>709.69</td>\n",
              "      <td>81.75</td>\n",
              "      <td>-36.89</td>\n",
              "    </tr>\n",
              "    <tr>\n",
              "      <th>2</th>\n",
              "      <td>180000.0</td>\n",
              "      <td>2</td>\n",
              "      <td>1.00</td>\n",
              "      <td>71.54</td>\n",
              "      <td>929.03</td>\n",
              "      <td>1.0</td>\n",
              "      <td>0</td>\n",
              "      <td>0</td>\n",
              "      <td>3</td>\n",
              "      <td>6</td>\n",
              "      <td>...</td>\n",
              "      <td>0.00</td>\n",
              "      <td>1933</td>\n",
              "      <td>0</td>\n",
              "      <td>98028</td>\n",
              "      <td>47.7379</td>\n",
              "      <td>-122.233</td>\n",
              "      <td>252.70</td>\n",
              "      <td>748.98</td>\n",
              "      <td>-181.16</td>\n",
              "      <td>180.05</td>\n",
              "    </tr>\n",
              "    <tr>\n",
              "      <th>3</th>\n",
              "      <td>604000.0</td>\n",
              "      <td>4</td>\n",
              "      <td>3.00</td>\n",
              "      <td>182.09</td>\n",
              "      <td>464.52</td>\n",
              "      <td>1.0</td>\n",
              "      <td>0</td>\n",
              "      <td>0</td>\n",
              "      <td>5</td>\n",
              "      <td>7</td>\n",
              "      <td>...</td>\n",
              "      <td>84.54</td>\n",
              "      <td>1965</td>\n",
              "      <td>0</td>\n",
              "      <td>98136</td>\n",
              "      <td>47.5208</td>\n",
              "      <td>-122.393</td>\n",
              "      <td>126.35</td>\n",
              "      <td>464.52</td>\n",
              "      <td>55.74</td>\n",
              "      <td>0.00</td>\n",
              "    </tr>\n",
              "    <tr>\n",
              "      <th>4</th>\n",
              "      <td>510000.0</td>\n",
              "      <td>3</td>\n",
              "      <td>2.00</td>\n",
              "      <td>156.08</td>\n",
              "      <td>750.66</td>\n",
              "      <td>1.0</td>\n",
              "      <td>0</td>\n",
              "      <td>0</td>\n",
              "      <td>3</td>\n",
              "      <td>8</td>\n",
              "      <td>...</td>\n",
              "      <td>0.00</td>\n",
              "      <td>1987</td>\n",
              "      <td>0</td>\n",
              "      <td>98074</td>\n",
              "      <td>47.6168</td>\n",
              "      <td>-122.045</td>\n",
              "      <td>167.23</td>\n",
              "      <td>697.05</td>\n",
              "      <td>-11.15</td>\n",
              "      <td>53.61</td>\n",
              "    </tr>\n",
              "  </tbody>\n",
              "</table>\n",
              "<p>5 rows × 21 columns</p>\n",
              "</div>\n",
              "      <button class=\"colab-df-convert\" onclick=\"convertToInteractive('df-4b60aa46-6035-4bcc-af16-61d918f51db2')\"\n",
              "              title=\"Convert this dataframe to an interactive table.\"\n",
              "              style=\"display:none;\">\n",
              "        \n",
              "  <svg xmlns=\"http://www.w3.org/2000/svg\" height=\"24px\"viewBox=\"0 0 24 24\"\n",
              "       width=\"24px\">\n",
              "    <path d=\"M0 0h24v24H0V0z\" fill=\"none\"/>\n",
              "    <path d=\"M18.56 5.44l.94 2.06.94-2.06 2.06-.94-2.06-.94-.94-2.06-.94 2.06-2.06.94zm-11 1L8.5 8.5l.94-2.06 2.06-.94-2.06-.94L8.5 2.5l-.94 2.06-2.06.94zm10 10l.94 2.06.94-2.06 2.06-.94-2.06-.94-.94-2.06-.94 2.06-2.06.94z\"/><path d=\"M17.41 7.96l-1.37-1.37c-.4-.4-.92-.59-1.43-.59-.52 0-1.04.2-1.43.59L10.3 9.45l-7.72 7.72c-.78.78-.78 2.05 0 2.83L4 21.41c.39.39.9.59 1.41.59.51 0 1.02-.2 1.41-.59l7.78-7.78 2.81-2.81c.8-.78.8-2.07 0-2.86zM5.41 20L4 18.59l7.72-7.72 1.47 1.35L5.41 20z\"/>\n",
              "  </svg>\n",
              "      </button>\n",
              "      \n",
              "  <style>\n",
              "    .colab-df-container {\n",
              "      display:flex;\n",
              "      flex-wrap:wrap;\n",
              "      gap: 12px;\n",
              "    }\n",
              "\n",
              "    .colab-df-convert {\n",
              "      background-color: #E8F0FE;\n",
              "      border: none;\n",
              "      border-radius: 50%;\n",
              "      cursor: pointer;\n",
              "      display: none;\n",
              "      fill: #1967D2;\n",
              "      height: 32px;\n",
              "      padding: 0 0 0 0;\n",
              "      width: 32px;\n",
              "    }\n",
              "\n",
              "    .colab-df-convert:hover {\n",
              "      background-color: #E2EBFA;\n",
              "      box-shadow: 0px 1px 2px rgba(60, 64, 67, 0.3), 0px 1px 3px 1px rgba(60, 64, 67, 0.15);\n",
              "      fill: #174EA6;\n",
              "    }\n",
              "\n",
              "    [theme=dark] .colab-df-convert {\n",
              "      background-color: #3B4455;\n",
              "      fill: #D2E3FC;\n",
              "    }\n",
              "\n",
              "    [theme=dark] .colab-df-convert:hover {\n",
              "      background-color: #434B5C;\n",
              "      box-shadow: 0px 1px 3px 1px rgba(0, 0, 0, 0.15);\n",
              "      filter: drop-shadow(0px 1px 2px rgba(0, 0, 0, 0.3));\n",
              "      fill: #FFFFFF;\n",
              "    }\n",
              "  </style>\n",
              "\n",
              "      <script>\n",
              "        const buttonEl =\n",
              "          document.querySelector('#df-4b60aa46-6035-4bcc-af16-61d918f51db2 button.colab-df-convert');\n",
              "        buttonEl.style.display =\n",
              "          google.colab.kernel.accessAllowed ? 'block' : 'none';\n",
              "\n",
              "        async function convertToInteractive(key) {\n",
              "          const element = document.querySelector('#df-4b60aa46-6035-4bcc-af16-61d918f51db2');\n",
              "          const dataTable =\n",
              "            await google.colab.kernel.invokeFunction('convertToInteractive',\n",
              "                                                     [key], {});\n",
              "          if (!dataTable) return;\n",
              "\n",
              "          const docLinkHtml = 'Like what you see? Visit the ' +\n",
              "            '<a target=\"_blank\" href=https://colab.research.google.com/notebooks/data_table.ipynb>data table notebook</a>'\n",
              "            + ' to learn more about interactive tables.';\n",
              "          element.innerHTML = '';\n",
              "          dataTable['output_type'] = 'display_data';\n",
              "          await google.colab.output.renderOutput(dataTable, element);\n",
              "          const docLink = document.createElement('div');\n",
              "          docLink.innerHTML = docLinkHtml;\n",
              "          element.appendChild(docLink);\n",
              "        }\n",
              "      </script>\n",
              "    </div>\n",
              "  </div>\n",
              "  "
            ]
          },
          "metadata": {},
          "execution_count": 11
        }
      ]
    },
    {
      "cell_type": "markdown",
      "source": [
        "Agora vamos plotar um gráfico de dispersão para ver como esses valores se comportam, primeiramente vamos analisar a área da casa"
      ],
      "metadata": {
        "id": "34X2NPyJXmTV"
      }
    },
    {
      "cell_type": "code",
      "source": [
        "sns.set_style('darkgrid')\n",
        "\n",
        "plt.figure(figsize=[12,8])\n",
        "ax = plt.scatter(house['comp_living'], house['price'],s=1.5)  \n",
        "plt.title('Gráfico de Distribuiçção - Diferença da Área da casa em relação aos vizinhos', fontsize=12)\n",
        "plt.xlabel('Casas'.upper(), fontsize=10)\n",
        "plt.ylabel('preço'.upper(), fontsize=10)\n",
        "plt.show()"
      ],
      "metadata": {
        "colab": {
          "base_uri": "https://localhost:8080/",
          "height": 514
        },
        "id": "iFR-C0ymWSo4",
        "outputId": "57018bb5-2349-4469-a5a7-77f4cacb6ce8"
      },
      "execution_count": null,
      "outputs": [
        {
          "output_type": "display_data",
          "data": {
            "text/plain": [
              "<Figure size 864x576 with 1 Axes>"
            ],
            "image/png": "[encoded data removed]"
          },
          "metadata": {}
        }
      ]
    },
    {
      "cell_type": "markdown",
      "source": [
        "Podemos ver no gráfico que temos uma leve tendência de quanto maior for a diferença, positiva, das áreas das casas em relação à área de seus vizinhos, maior será o preço da casa. Com toda certeza somente com esses dados não conseguimos predizer valores, mas no conjunto, juntamente com os dados restantes poderemos ter uma boa resposta"
      ],
      "metadata": {
        "id": "woioaelYZ-PY"
      }
    },
    {
      "cell_type": "markdown",
      "source": [
        "Agora vamos dar uma olhada na diferença entre as áreas dos lotes"
      ],
      "metadata": {
        "id": "Y7pllkA00Eu1"
      }
    },
    {
      "cell_type": "code",
      "source": [
        "sns.set_style('darkgrid')\n",
        "\n",
        "plt.figure(figsize=[12,8])\n",
        "plt.scatter(house['comp_lot'], house['price'],s=1.5)  \n",
        "plt.title('Gráfico de Distribuiçção - Diferença da Área dos lotes em relação aos vizinhos', fontsize=12)\n",
        "plt.xlabel('casas'.upper(), fontsize=10)\n",
        "plt.ylabel('preço'.upper(), fontsize=10)\n",
        "plt.show()"
      ],
      "metadata": {
        "colab": {
          "base_uri": "https://localhost:8080/",
          "height": 514
        },
        "id": "Oh-NEdEqa83M",
        "outputId": "38f60c2f-51ef-4846-8be0-40567f612d87"
      },
      "execution_count": null,
      "outputs": [
        {
          "output_type": "display_data",
          "data": {
            "text/plain": [
              "<Figure size 864x576 with 1 Axes>"
            ],
            "image/png": "[encoded data removed]"
          },
          "metadata": {}
        }
      ]
    },
    {
      "cell_type": "markdown",
      "source": [
        "Já para a área total do lote não podemos dizer a mesma coisa, o comportamento do gráfico não nos diz nada, ficou concentrado no 0 e quando temos valores dispersos o preço não muda significantemente, se mantém na mesma linha, até mesmo aquele que tem uma diferença absurda, chegando a quase 120 mil metros quadrados"
      ],
      "metadata": {
        "id": "UmU6ZxH_bEMR"
      }
    },
    {
      "cell_type": "code",
      "source": [
        "house[house['comp_lot'] > 100000]"
      ],
      "metadata": {
        "colab": {
          "base_uri": "https://localhost:8080/",
          "height": 205
        },
        "id": "vXi8bz-Kckje",
        "outputId": "10fe2a3c-f607-4555-e32a-45da1be816da"
      },
      "execution_count": null,
      "outputs": [
        {
          "output_type": "execute_result",
          "data": {
            "text/plain": [
              "          price  bedrooms  bathrooms  sqft_living   sqft_lot  floors  \\\n",
              "1719   700000.0         4        1.0       120.77  153416.21     1.0   \n",
              "17319  190000.0         2        1.0        65.96  108212.86     1.0   \n",
              "\n",
              "       waterfront  view  condition  grade  ...  sqft_basement  yr_built  \\\n",
              "1719            0     3          4      6  ...            0.0      1920   \n",
              "17319           0     0          2      5  ...            0.0      1915   \n",
              "\n",
              "       yr_renovated  zipcode      lat     long  sqft_living15  sqft_lot15  \\\n",
              "1719              0    98022  47.2313 -122.023         237.83    39537.75   \n",
              "17319             0    98014  47.6888 -121.909         156.08     1554.27   \n",
              "\n",
              "       comp_living   comp_lot  \n",
              "1719       -117.06  113878.46  \n",
              "17319       -90.12  106658.59  \n",
              "\n",
              "[2 rows x 21 columns]"
            ],
            "text/html": [
              "\n",
              "  <div id=\"df-50d456e8-c2bb-4793-a70b-642567b38ba4\">\n",
              "    <div class=\"colab-df-container\">\n",
              "      <div>\n",
              "<style scoped>\n",
              "    .dataframe tbody tr th:only-of-type {\n",
              "        vertical-align: middle;\n",
              "    }\n",
              "\n",
              "    .dataframe tbody tr th {\n",
              "        vertical-align: top;\n",
              "    }\n",
              "\n",
              "    .dataframe thead th {\n",
              "        text-align: right;\n",
              "    }\n",
              "</style>\n",
              "<table border=\"1\" class=\"dataframe\">\n",
              "  <thead>\n",
              "    <tr style=\"text-align: right;\">\n",
              "      <th></th>\n",
              "      <th>price</th>\n",
              "      <th>bedrooms</th>\n",
              "      <th>bathrooms</th>\n",
              "      <th>sqft_living</th>\n",
              "      <th>sqft_lot</th>\n",
              "      <th>floors</th>\n",
              "      <th>waterfront</th>\n",
              "      <th>view</th>\n",
              "      <th>condition</th>\n",
              "      <th>grade</th>\n",
              "      <th>...</th>\n",
              "      <th>sqft_basement</th>\n",
              "      <th>yr_built</th>\n",
              "      <th>yr_renovated</th>\n",
              "      <th>zipcode</th>\n",
              "      <th>lat</th>\n",
              "      <th>long</th>\n",
              "      <th>sqft_living15</th>\n",
              "      <th>sqft_lot15</th>\n",
              "      <th>comp_living</th>\n",
              "      <th>comp_lot</th>\n",
              "    </tr>\n",
              "  </thead>\n",
              "  <tbody>\n",
              "    <tr>\n",
              "      <th>1719</th>\n",
              "      <td>700000.0</td>\n",
              "      <td>4</td>\n",
              "      <td>1.0</td>\n",
              "      <td>120.77</td>\n",
              "      <td>153416.21</td>\n",
              "      <td>1.0</td>\n",
              "      <td>0</td>\n",
              "      <td>3</td>\n",
              "      <td>4</td>\n",
              "      <td>6</td>\n",
              "      <td>...</td>\n",
              "      <td>0.0</td>\n",
              "      <td>1920</td>\n",
              "      <td>0</td>\n",
              "      <td>98022</td>\n",
              "      <td>47.2313</td>\n",
              "      <td>-122.023</td>\n",
              "      <td>237.83</td>\n",
              "      <td>39537.75</td>\n",
              "      <td>-117.06</td>\n",
              "      <td>113878.46</td>\n",
              "    </tr>\n",
              "    <tr>\n",
              "      <th>17319</th>\n",
              "      <td>190000.0</td>\n",
              "      <td>2</td>\n",
              "      <td>1.0</td>\n",
              "      <td>65.96</td>\n",
              "      <td>108212.86</td>\n",
              "      <td>1.0</td>\n",
              "      <td>0</td>\n",
              "      <td>0</td>\n",
              "      <td>2</td>\n",
              "      <td>5</td>\n",
              "      <td>...</td>\n",
              "      <td>0.0</td>\n",
              "      <td>1915</td>\n",
              "      <td>0</td>\n",
              "      <td>98014</td>\n",
              "      <td>47.6888</td>\n",
              "      <td>-121.909</td>\n",
              "      <td>156.08</td>\n",
              "      <td>1554.27</td>\n",
              "      <td>-90.12</td>\n",
              "      <td>106658.59</td>\n",
              "    </tr>\n",
              "  </tbody>\n",
              "</table>\n",
              "<p>2 rows × 21 columns</p>\n",
              "</div>\n",
              "      <button class=\"colab-df-convert\" onclick=\"convertToInteractive('df-50d456e8-c2bb-4793-a70b-642567b38ba4')\"\n",
              "              title=\"Convert this dataframe to an interactive table.\"\n",
              "              style=\"display:none;\">\n",
              "        \n",
              "  <svg xmlns=\"http://www.w3.org/2000/svg\" height=\"24px\"viewBox=\"0 0 24 24\"\n",
              "       width=\"24px\">\n",
              "    <path d=\"M0 0h24v24H0V0z\" fill=\"none\"/>\n",
              "    <path d=\"M18.56 5.44l.94 2.06.94-2.06 2.06-.94-2.06-.94-.94-2.06-.94 2.06-2.06.94zm-11 1L8.5 8.5l.94-2.06 2.06-.94-2.06-.94L8.5 2.5l-.94 2.06-2.06.94zm10 10l.94 2.06.94-2.06 2.06-.94-2.06-.94-.94-2.06-.94 2.06-2.06.94z\"/><path d=\"M17.41 7.96l-1.37-1.37c-.4-.4-.92-.59-1.43-.59-.52 0-1.04.2-1.43.59L10.3 9.45l-7.72 7.72c-.78.78-.78 2.05 0 2.83L4 21.41c.39.39.9.59 1.41.59.51 0 1.02-.2 1.41-.59l7.78-7.78 2.81-2.81c.8-.78.8-2.07 0-2.86zM5.41 20L4 18.59l7.72-7.72 1.47 1.35L5.41 20z\"/>\n",
              "  </svg>\n",
              "      </button>\n",
              "      \n",
              "  <style>\n",
              "    .colab-df-container {\n",
              "      display:flex;\n",
              "      flex-wrap:wrap;\n",
              "      gap: 12px;\n",
              "    }\n",
              "\n",
              "    .colab-df-convert {\n",
              "      background-color: #E8F0FE;\n",
              "      border: none;\n",
              "      border-radius: 50%;\n",
              "      cursor: pointer;\n",
              "      display: none;\n",
              "      fill: #1967D2;\n",
              "      height: 32px;\n",
              "      padding: 0 0 0 0;\n",
              "      width: 32px;\n",
              "    }\n",
              "\n",
              "    .colab-df-convert:hover {\n",
              "      background-color: #E2EBFA;\n",
              "      box-shadow: 0px 1px 2px rgba(60, 64, 67, 0.3), 0px 1px 3px 1px rgba(60, 64, 67, 0.15);\n",
              "      fill: #174EA6;\n",
              "    }\n",
              "\n",
              "    [theme=dark] .colab-df-convert {\n",
              "      background-color: #3B4455;\n",
              "      fill: #D2E3FC;\n",
              "    }\n",
              "\n",
              "    [theme=dark] .colab-df-convert:hover {\n",
              "      background-color: #434B5C;\n",
              "      box-shadow: 0px 1px 3px 1px rgba(0, 0, 0, 0.15);\n",
              "      filter: drop-shadow(0px 1px 2px rgba(0, 0, 0, 0.3));\n",
              "      fill: #FFFFFF;\n",
              "    }\n",
              "  </style>\n",
              "\n",
              "      <script>\n",
              "        const buttonEl =\n",
              "          document.querySelector('#df-50d456e8-c2bb-4793-a70b-642567b38ba4 button.colab-df-convert');\n",
              "        buttonEl.style.display =\n",
              "          google.colab.kernel.accessAllowed ? 'block' : 'none';\n",
              "\n",
              "        async function convertToInteractive(key) {\n",
              "          const element = document.querySelector('#df-50d456e8-c2bb-4793-a70b-642567b38ba4');\n",
              "          const dataTable =\n",
              "            await google.colab.kernel.invokeFunction('convertToInteractive',\n",
              "                                                     [key], {});\n",
              "          if (!dataTable) return;\n",
              "\n",
              "          const docLinkHtml = 'Like what you see? Visit the ' +\n",
              "            '<a target=\"_blank\" href=https://colab.research.google.com/notebooks/data_table.ipynb>data table notebook</a>'\n",
              "            + ' to learn more about interactive tables.';\n",
              "          element.innerHTML = '';\n",
              "          dataTable['output_type'] = 'display_data';\n",
              "          await google.colab.output.renderOutput(dataTable, element);\n",
              "          const docLink = document.createElement('div');\n",
              "          docLink.innerHTML = docLinkHtml;\n",
              "          element.appendChild(docLink);\n",
              "        }\n",
              "      </script>\n",
              "    </div>\n",
              "  </div>\n",
              "  "
            ]
          },
          "metadata": {},
          "execution_count": 15
        }
      ]
    },
    {
      "cell_type": "markdown",
      "source": [
        "Fomos tentar entender porque as casas com uma diferença tão grande de lotes não tinham preços mais elevados que as outras, e uma explicação que achei foi justamente na área da casa, elas acabam sendo menores até que a média dos vizinhos, como é possível ver no gráfico acima, na coluna \"comp living\". Com essa análise já vou remover a coluna que compara as áreas dos lotes, vamos apenas manter, por enquanto, a comparação das áreas das casas"
      ],
      "metadata": {
        "id": "6k3wRJKbcmAo"
      }
    },
    {
      "cell_type": "code",
      "source": [
        "house = house.drop(columns = 'comp_lot')"
      ],
      "metadata": {
        "id": "FOOKKinQiw3Y"
      },
      "execution_count": null,
      "outputs": []
    },
    {
      "cell_type": "markdown",
      "source": [
        "Continuando nossa análise, agora vamos mostrar os anos de construção das casas, entender essa linha do tempo"
      ],
      "metadata": {
        "id": "n--tkr_midv7"
      }
    },
    {
      "cell_type": "code",
      "source": [
        "casa_por_ano =  pd.DataFrame(house['yr_built'].value_counts())\n",
        "casa_por_ano['year'] = casa_por_ano.index"
      ],
      "metadata": {
        "id": "_8digC0OfEMZ"
      },
      "execution_count": null,
      "outputs": []
    },
    {
      "cell_type": "markdown",
      "source": [
        "Vamos analisar essa evolução em dois gráficos parecidos, porem que conseguimos fazer diferentes análises. O primeiro gráfico, em barras, poderemos ver ano a ano o histórico das construções."
      ],
      "metadata": {
        "id": "byc7aYCb25k5"
      }
    },
    {
      "cell_type": "code",
      "source": [
        "sns.set_style('darkgrid')\n",
        "\n",
        "plt.figure(figsize=[12,6])\n",
        "plt.bar(casa_por_ano['year'],casa_por_ano['yr_built'])\n",
        "#sns.barplot( x = casa_por_ano['year'] , y = casa_por_ano['yr_built'])   \n",
        "plt.title('Grafico de barras', fontsize=18)\n",
        "plt.xlabel('Ano'.upper(), fontsize=14)\n",
        "plt.ylabel('Qts Casas'.upper(), fontsize=14)\n",
        "plt.show()"
      ],
      "metadata": {
        "colab": {
          "base_uri": "https://localhost:8080/",
          "height": 412
        },
        "id": "MnAE1k31gmin",
        "outputId": "f13878d2-4cf0-47b8-cbaa-e1fa02de96de"
      },
      "execution_count": null,
      "outputs": [
        {
          "output_type": "display_data",
          "data": {
            "text/plain": [
              "<Figure size 864x432 with 1 Axes>"
            ],
            "image/png": "[encoded data removed]"
          },
          "metadata": {}
        }
      ]
    },
    {
      "cell_type": "markdown",
      "source": [
        "Neste segundo gráfico, histograma, podemos olhar em conjuntos de anos, neste nosso caso teremos uma barra para cada 5 anos. Podemos analisar que o comportamento se mantém, mas a visualização fica mais fácil, mais limpa."
      ],
      "metadata": {
        "id": "w2AASnp73NTU"
      }
    },
    {
      "cell_type": "code",
      "source": [
        "sns.set_style('darkgrid')\n",
        "\n",
        "plt.figure(figsize=[12,6])\n",
        "plt.hist(house['yr_built'], bins = 24)   #bins = números de barras\n",
        "plt.title('Histograma - Ano de Construção', fontsize=18)\n",
        "plt.xlabel('Ano'.upper(), fontsize=14)\n",
        "plt.ylabel('Qts Casas'.upper(), fontsize=14)\n",
        "plt.show()"
      ],
      "metadata": {
        "colab": {
          "base_uri": "https://localhost:8080/",
          "height": 412
        },
        "id": "p2RmXlbaerio",
        "outputId": "70e41f90-f1d0-4f2e-d705-090e8425fa88"
      },
      "execution_count": null,
      "outputs": [
        {
          "output_type": "display_data",
          "data": {
            "text/plain": [
              "<Figure size 864x432 with 1 Axes>"
            ],
            "image/png": "[encoded data removed]"
          },
          "metadata": {}
        }
      ]
    },
    {
      "cell_type": "markdown",
      "source": [
        "Olhando os gráficos assim, conseguimos ver que a construção das casas naquela região nunca pararam, e vem aumentando. Em 2014 tivemos o maior número de casas construídas, acredito que isso mostra ser uma região muito valorizada, onde é vantajoso investir em construções até os dias atuais."
      ],
      "metadata": {
        "id": "oJun0XVc2UFH"
      }
    },
    {
      "cell_type": "markdown",
      "source": [
        "Aproveitando que estamos olhando o ano de construção, vamos ver a relação com o preço: "
      ],
      "metadata": {
        "id": "lJsmg8-G26nb"
      }
    },
    {
      "cell_type": "code",
      "source": [
        "plt.scatter(house['yr_built'],house['price'],s=2.5)"
      ],
      "metadata": {
        "colab": {
          "base_uri": "https://localhost:8080/",
          "height": 293
        },
        "id": "u5AZFeg83SNd",
        "outputId": "379437f5-80ed-4406-c432-81bcc825a7cc"
      },
      "execution_count": null,
      "outputs": [
        {
          "output_type": "execute_result",
          "data": {
            "text/plain": [
              "<matplotlib.collections.PathCollection at 0x7fa9fa11fa90>"
            ]
          },
          "metadata": {},
          "execution_count": 21
        },
        {
          "output_type": "display_data",
          "data": {
            "text/plain": [
              "<Figure size 432x288 with 1 Axes>"
            ],
            "image/png": "[encoded data removed]"
          },
          "metadata": {}
        }
      ]
    },
    {
      "cell_type": "markdown",
      "source": [
        "Conseguimos ver que não tem uma relação muito direta, até porque essas casas podem ter sido reformadas. Então vamos tentar olhar outras variáveis para ver quais tem uma relação direta com o preço. Vou começar olhando para o tamanho das casas e dos terrenos."
      ],
      "metadata": {
        "id": "PQtvcYoL5Qky"
      }
    },
    {
      "cell_type": "markdown",
      "source": [
        "Agora então vamos usar o gráfico de dispersão para compararmos o tamanho da casa com seus preços, estes em dólares."
      ],
      "metadata": {
        "id": "gReelEhq73mr"
      }
    },
    {
      "cell_type": "code",
      "source": [
        "plt.scatter(house['sqft_living'],house['price'],s=5)"
      ],
      "metadata": {
        "colab": {
          "base_uri": "https://localhost:8080/",
          "height": 293
        },
        "id": "jBJQ1S5V8J1T",
        "outputId": "4b342493-345e-435a-cdc2-e29d274e2726"
      },
      "execution_count": null,
      "outputs": [
        {
          "output_type": "execute_result",
          "data": {
            "text/plain": [
              "<matplotlib.collections.PathCollection at 0x7fa9fa11f8d0>"
            ]
          },
          "metadata": {},
          "execution_count": 22
        },
        {
          "output_type": "display_data",
          "data": {
            "text/plain": [
              "<Figure size 432x288 with 1 Axes>"
            ],
            "image/png": "[encoded data removed]"
          },
          "metadata": {}
        }
      ]
    },
    {
      "cell_type": "code",
      "source": [
        "house.sort_values(by=['sqft_living'])"
      ],
      "metadata": {
        "colab": {
          "base_uri": "https://localhost:8080/",
          "height": 488
        },
        "id": "1vButTdm8qr6",
        "outputId": "772f33f4-4290-45e6-e39a-dbc3258fad2a"
      },
      "execution_count": null,
      "outputs": [
        {
          "output_type": "execute_result",
          "data": {
            "text/plain": [
              "           price  bedrooms  bathrooms  sqft_living  sqft_lot  floors  \\\n",
              "19452   142000.0         0       0.00        26.94   1939.35     1.0   \n",
              "15381   276000.0         1       0.75        34.37    167.32     1.0   \n",
              "860     245000.0         1       0.75        35.30   1393.54     1.0   \n",
              "18379   265000.0         0       0.75        35.67  19829.59     1.0   \n",
              "4868    228000.0         0       1.00        36.23    548.13     1.0   \n",
              "...          ...       ...        ...          ...       ...     ...   \n",
              "8092   4668000.0         5       6.75       895.58   1214.06     1.0   \n",
              "9254   6885000.0         6       7.75       918.81   2914.74     2.0   \n",
              "3914   7062500.0         5       4.50       932.75   3467.60     2.0   \n",
              "7252   7700000.0         6       8.00      1119.48   2564.12     2.5   \n",
              "12777  2280000.0         7       8.00      1257.91  28591.08     3.0   \n",
              "\n",
              "       waterfront  view  condition  grade  sqft_above  sqft_basement  \\\n",
              "19452           0     0          1      1       26.94           0.00   \n",
              "15381           0     0          5      5       34.37           0.00   \n",
              "860             0     0          3      5       35.30           0.00   \n",
              "18379           0     0          3      4       35.67           0.00   \n",
              "4868            0     0          2      4       36.23           0.00   \n",
              "...           ...   ...        ...    ...         ...            ...   \n",
              "8092            1     4          3     12      447.79         447.79   \n",
              "9254            0     4          3     13      823.12          95.69   \n",
              "3914            1     2          3     11      713.50         219.25   \n",
              "7252            0     3          4     13      796.18         323.30   \n",
              "12777           0     4          3     12      874.22         383.69   \n",
              "\n",
              "       yr_built  yr_renovated  zipcode      lat     long  sqft_living15  \\\n",
              "19452      1963             0    98024  47.5308 -121.888         150.50   \n",
              "15381      1923             0    98117  47.6778 -122.389         124.49   \n",
              "860        1963             0    98168  47.4810 -122.323         108.70   \n",
              "18379      2003             0    98070  47.4177 -122.491         178.37   \n",
              "4868       1953             0    98118  47.5260 -122.261         201.60   \n",
              "...         ...           ...      ...      ...      ...            ...   \n",
              "8092       1983          2009    98040  47.5570 -122.210         303.79   \n",
              "9254       2001             0    98039  47.6305 -122.240         421.78   \n",
              "3914       1940          2001    98004  47.6500 -122.214         365.11   \n",
              "7252       1910          1987    98102  47.6298 -122.323         366.04   \n",
              "12777      1999             0    98053  47.6675 -121.986         450.58   \n",
              "\n",
              "       sqft_lot15  comp_living  \n",
              "19452     2122.83      -123.56  \n",
              "15381      464.52       -90.12  \n",
              "860       1393.54       -73.40  \n",
              "18379    20841.95      -142.70  \n",
              "4868       557.42      -165.37  \n",
              "...           ...          ...  \n",
              "8092       971.21       591.79  \n",
              "9254      3969.75       497.03  \n",
              "3914      2364.29       567.64  \n",
              "7252       817.55       753.44  \n",
              "12777    20234.27       807.33  \n",
              "\n",
              "[21613 rows x 20 columns]"
            ],
            "text/html": [
              "\n",
              "  <div id=\"df-2a3dd0e3-e862-4149-afce-2b2ab3cf5eac\">\n",
              "    <div class=\"colab-df-container\">\n",
              "      <div>\n",
              "<style scoped>\n",
              "    .dataframe tbody tr th:only-of-type {\n",
              "        vertical-align: middle;\n",
              "    }\n",
              "\n",
              "    .dataframe tbody tr th {\n",
              "        vertical-align: top;\n",
              "    }\n",
              "\n",
              "    .dataframe thead th {\n",
              "        text-align: right;\n",
              "    }\n",
              "</style>\n",
              "<table border=\"1\" class=\"dataframe\">\n",
              "  <thead>\n",
              "    <tr style=\"text-align: right;\">\n",
              "      <th></th>\n",
              "      <th>price</th>\n",
              "      <th>bedrooms</th>\n",
              "      <th>bathrooms</th>\n",
              "      <th>sqft_living</th>\n",
              "      <th>sqft_lot</th>\n",
              "      <th>floors</th>\n",
              "      <th>waterfront</th>\n",
              "      <th>view</th>\n",
              "      <th>condition</th>\n",
              "      <th>grade</th>\n",
              "      <th>sqft_above</th>\n",
              "      <th>sqft_basement</th>\n",
              "      <th>yr_built</th>\n",
              "      <th>yr_renovated</th>\n",
              "      <th>zipcode</th>\n",
              "      <th>lat</th>\n",
              "      <th>long</th>\n",
              "      <th>sqft_living15</th>\n",
              "      <th>sqft_lot15</th>\n",
              "      <th>comp_living</th>\n",
              "    </tr>\n",
              "  </thead>\n",
              "  <tbody>\n",
              "    <tr>\n",
              "      <th>19452</th>\n",
              "      <td>142000.0</td>\n",
              "      <td>0</td>\n",
              "      <td>0.00</td>\n",
              "      <td>26.94</td>\n",
              "      <td>1939.35</td>\n",
              "      <td>1.0</td>\n",
              "      <td>0</td>\n",
              "      <td>0</td>\n",
              "      <td>1</td>\n",
              "      <td>1</td>\n",
              "      <td>26.94</td>\n",
              "      <td>0.00</td>\n",
              "      <td>1963</td>\n",
              "      <td>0</td>\n",
              "      <td>98024</td>\n",
              "      <td>47.5308</td>\n",
              "      <td>-121.888</td>\n",
              "      <td>150.50</td>\n",
              "      <td>2122.83</td>\n",
              "      <td>-123.56</td>\n",
              "    </tr>\n",
              "    <tr>\n",
              "      <th>15381</th>\n",
              "      <td>276000.0</td>\n",
              "      <td>1</td>\n",
              "      <td>0.75</td>\n",
              "      <td>34.37</td>\n",
              "      <td>167.32</td>\n",
              "      <td>1.0</td>\n",
              "      <td>0</td>\n",
              "      <td>0</td>\n",
              "      <td>5</td>\n",
              "      <td>5</td>\n",
              "      <td>34.37</td>\n",
              "      <td>0.00</td>\n",
              "      <td>1923</td>\n",
              "      <td>0</td>\n",
              "      <td>98117</td>\n",
              "      <td>47.6778</td>\n",
              "      <td>-122.389</td>\n",
              "      <td>124.49</td>\n",
              "      <td>464.52</td>\n",
              "      <td>-90.12</td>\n",
              "    </tr>\n",
              "    <tr>\n",
              "      <th>860</th>\n",
              "      <td>245000.0</td>\n",
              "      <td>1</td>\n",
              "      <td>0.75</td>\n",
              "      <td>35.30</td>\n",
              "      <td>1393.54</td>\n",
              "      <td>1.0</td>\n",
              "      <td>0</td>\n",
              "      <td>0</td>\n",
              "      <td>3</td>\n",
              "      <td>5</td>\n",
              "      <td>35.30</td>\n",
              "      <td>0.00</td>\n",
              "      <td>1963</td>\n",
              "      <td>0</td>\n",
              "      <td>98168</td>\n",
              "      <td>47.4810</td>\n",
              "      <td>-122.323</td>\n",
              "      <td>108.70</td>\n",
              "      <td>1393.54</td>\n",
              "      <td>-73.40</td>\n",
              "    </tr>\n",
              "    <tr>\n",
              "      <th>18379</th>\n",
              "      <td>265000.0</td>\n",
              "      <td>0</td>\n",
              "      <td>0.75</td>\n",
              "      <td>35.67</td>\n",
              "      <td>19829.59</td>\n",
              "      <td>1.0</td>\n",
              "      <td>0</td>\n",
              "      <td>0</td>\n",
              "      <td>3</td>\n",
              "      <td>4</td>\n",
              "      <td>35.67</td>\n",
              "      <td>0.00</td>\n",
              "      <td>2003</td>\n",
              "      <td>0</td>\n",
              "      <td>98070</td>\n",
              "      <td>47.4177</td>\n",
              "      <td>-122.491</td>\n",
              "      <td>178.37</td>\n",
              "      <td>20841.95</td>\n",
              "      <td>-142.70</td>\n",
              "    </tr>\n",
              "    <tr>\n",
              "      <th>4868</th>\n",
              "      <td>228000.0</td>\n",
              "      <td>0</td>\n",
              "      <td>1.00</td>\n",
              "      <td>36.23</td>\n",
              "      <td>548.13</td>\n",
              "      <td>1.0</td>\n",
              "      <td>0</td>\n",
              "      <td>0</td>\n",
              "      <td>2</td>\n",
              "      <td>4</td>\n",
              "      <td>36.23</td>\n",
              "      <td>0.00</td>\n",
              "      <td>1953</td>\n",
              "      <td>0</td>\n",
              "      <td>98118</td>\n",
              "      <td>47.5260</td>\n",
              "      <td>-122.261</td>\n",
              "      <td>201.60</td>\n",
              "      <td>557.42</td>\n",
              "      <td>-165.37</td>\n",
              "    </tr>\n",
              "    <tr>\n",
              "      <th>...</th>\n",
              "      <td>...</td>\n",
              "      <td>...</td>\n",
              "      <td>...</td>\n",
              "      <td>...</td>\n",
              "      <td>...</td>\n",
              "      <td>...</td>\n",
              "      <td>...</td>\n",
              "      <td>...</td>\n",
              "      <td>...</td>\n",
              "      <td>...</td>\n",
              "      <td>...</td>\n",
              "      <td>...</td>\n",
              "      <td>...</td>\n",
              "      <td>...</td>\n",
              "      <td>...</td>\n",
              "      <td>...</td>\n",
              "      <td>...</td>\n",
              "      <td>...</td>\n",
              "      <td>...</td>\n",
              "      <td>...</td>\n",
              "    </tr>\n",
              "    <tr>\n",
              "      <th>8092</th>\n",
              "      <td>4668000.0</td>\n",
              "      <td>5</td>\n",
              "      <td>6.75</td>\n",
              "      <td>895.58</td>\n",
              "      <td>1214.06</td>\n",
              "      <td>1.0</td>\n",
              "      <td>1</td>\n",
              "      <td>4</td>\n",
              "      <td>3</td>\n",
              "      <td>12</td>\n",
              "      <td>447.79</td>\n",
              "      <td>447.79</td>\n",
              "      <td>1983</td>\n",
              "      <td>2009</td>\n",
              "      <td>98040</td>\n",
              "      <td>47.5570</td>\n",
              "      <td>-122.210</td>\n",
              "      <td>303.79</td>\n",
              "      <td>971.21</td>\n",
              "      <td>591.79</td>\n",
              "    </tr>\n",
              "    <tr>\n",
              "      <th>9254</th>\n",
              "      <td>6885000.0</td>\n",
              "      <td>6</td>\n",
              "      <td>7.75</td>\n",
              "      <td>918.81</td>\n",
              "      <td>2914.74</td>\n",
              "      <td>2.0</td>\n",
              "      <td>0</td>\n",
              "      <td>4</td>\n",
              "      <td>3</td>\n",
              "      <td>13</td>\n",
              "      <td>823.12</td>\n",
              "      <td>95.69</td>\n",
              "      <td>2001</td>\n",
              "      <td>0</td>\n",
              "      <td>98039</td>\n",
              "      <td>47.6305</td>\n",
              "      <td>-122.240</td>\n",
              "      <td>421.78</td>\n",
              "      <td>3969.75</td>\n",
              "      <td>497.03</td>\n",
              "    </tr>\n",
              "    <tr>\n",
              "      <th>3914</th>\n",
              "      <td>7062500.0</td>\n",
              "      <td>5</td>\n",
              "      <td>4.50</td>\n",
              "      <td>932.75</td>\n",
              "      <td>3467.60</td>\n",
              "      <td>2.0</td>\n",
              "      <td>1</td>\n",
              "      <td>2</td>\n",
              "      <td>3</td>\n",
              "      <td>11</td>\n",
              "      <td>713.50</td>\n",
              "      <td>219.25</td>\n",
              "      <td>1940</td>\n",
              "      <td>2001</td>\n",
              "      <td>98004</td>\n",
              "      <td>47.6500</td>\n",
              "      <td>-122.214</td>\n",
              "      <td>365.11</td>\n",
              "      <td>2364.29</td>\n",
              "      <td>567.64</td>\n",
              "    </tr>\n",
              "    <tr>\n",
              "      <th>7252</th>\n",
              "      <td>7700000.0</td>\n",
              "      <td>6</td>\n",
              "      <td>8.00</td>\n",
              "      <td>1119.48</td>\n",
              "      <td>2564.12</td>\n",
              "      <td>2.5</td>\n",
              "      <td>0</td>\n",
              "      <td>3</td>\n",
              "      <td>4</td>\n",
              "      <td>13</td>\n",
              "      <td>796.18</td>\n",
              "      <td>323.30</td>\n",
              "      <td>1910</td>\n",
              "      <td>1987</td>\n",
              "      <td>98102</td>\n",
              "      <td>47.6298</td>\n",
              "      <td>-122.323</td>\n",
              "      <td>366.04</td>\n",
              "      <td>817.55</td>\n",
              "      <td>753.44</td>\n",
              "    </tr>\n",
              "    <tr>\n",
              "      <th>12777</th>\n",
              "      <td>2280000.0</td>\n",
              "      <td>7</td>\n",
              "      <td>8.00</td>\n",
              "      <td>1257.91</td>\n",
              "      <td>28591.08</td>\n",
              "      <td>3.0</td>\n",
              "      <td>0</td>\n",
              "      <td>4</td>\n",
              "      <td>3</td>\n",
              "      <td>12</td>\n",
              "      <td>874.22</td>\n",
              "      <td>383.69</td>\n",
              "      <td>1999</td>\n",
              "      <td>0</td>\n",
              "      <td>98053</td>\n",
              "      <td>47.6675</td>\n",
              "      <td>-121.986</td>\n",
              "      <td>450.58</td>\n",
              "      <td>20234.27</td>\n",
              "      <td>807.33</td>\n",
              "    </tr>\n",
              "  </tbody>\n",
              "</table>\n",
              "<p>21613 rows × 20 columns</p>\n",
              "</div>\n",
              "      <button class=\"colab-df-convert\" onclick=\"convertToInteractive('df-2a3dd0e3-e862-4149-afce-2b2ab3cf5eac')\"\n",
              "              title=\"Convert this dataframe to an interactive table.\"\n",
              "              style=\"display:none;\">\n",
              "        \n",
              "  <svg xmlns=\"http://www.w3.org/2000/svg\" height=\"24px\"viewBox=\"0 0 24 24\"\n",
              "       width=\"24px\">\n",
              "    <path d=\"M0 0h24v24H0V0z\" fill=\"none\"/>\n",
              "    <path d=\"M18.56 5.44l.94 2.06.94-2.06 2.06-.94-2.06-.94-.94-2.06-.94 2.06-2.06.94zm-11 1L8.5 8.5l.94-2.06 2.06-.94-2.06-.94L8.5 2.5l-.94 2.06-2.06.94zm10 10l.94 2.06.94-2.06 2.06-.94-2.06-.94-.94-2.06-.94 2.06-2.06.94z\"/><path d=\"M17.41 7.96l-1.37-1.37c-.4-.4-.92-.59-1.43-.59-.52 0-1.04.2-1.43.59L10.3 9.45l-7.72 7.72c-.78.78-.78 2.05 0 2.83L4 21.41c.39.39.9.59 1.41.59.51 0 1.02-.2 1.41-.59l7.78-7.78 2.81-2.81c.8-.78.8-2.07 0-2.86zM5.41 20L4 18.59l7.72-7.72 1.47 1.35L5.41 20z\"/>\n",
              "  </svg>\n",
              "      </button>\n",
              "      \n",
              "  <style>\n",
              "    .colab-df-container {\n",
              "      display:flex;\n",
              "      flex-wrap:wrap;\n",
              "      gap: 12px;\n",
              "    }\n",
              "\n",
              "    .colab-df-convert {\n",
              "      background-color: #E8F0FE;\n",
              "      border: none;\n",
              "      border-radius: 50%;\n",
              "      cursor: pointer;\n",
              "      display: none;\n",
              "      fill: #1967D2;\n",
              "      height: 32px;\n",
              "      padding: 0 0 0 0;\n",
              "      width: 32px;\n",
              "    }\n",
              "\n",
              "    .colab-df-convert:hover {\n",
              "      background-color: #E2EBFA;\n",
              "      box-shadow: 0px 1px 2px rgba(60, 64, 67, 0.3), 0px 1px 3px 1px rgba(60, 64, 67, 0.15);\n",
              "      fill: #174EA6;\n",
              "    }\n",
              "\n",
              "    [theme=dark] .colab-df-convert {\n",
              "      background-color: #3B4455;\n",
              "      fill: #D2E3FC;\n",
              "    }\n",
              "\n",
              "    [theme=dark] .colab-df-convert:hover {\n",
              "      background-color: #434B5C;\n",
              "      box-shadow: 0px 1px 3px 1px rgba(0, 0, 0, 0.15);\n",
              "      filter: drop-shadow(0px 1px 2px rgba(0, 0, 0, 0.3));\n",
              "      fill: #FFFFFF;\n",
              "    }\n",
              "  </style>\n",
              "\n",
              "      <script>\n",
              "        const buttonEl =\n",
              "          document.querySelector('#df-2a3dd0e3-e862-4149-afce-2b2ab3cf5eac button.colab-df-convert');\n",
              "        buttonEl.style.display =\n",
              "          google.colab.kernel.accessAllowed ? 'block' : 'none';\n",
              "\n",
              "        async function convertToInteractive(key) {\n",
              "          const element = document.querySelector('#df-2a3dd0e3-e862-4149-afce-2b2ab3cf5eac');\n",
              "          const dataTable =\n",
              "            await google.colab.kernel.invokeFunction('convertToInteractive',\n",
              "                                                     [key], {});\n",
              "          if (!dataTable) return;\n",
              "\n",
              "          const docLinkHtml = 'Like what you see? Visit the ' +\n",
              "            '<a target=\"_blank\" href=https://colab.research.google.com/notebooks/data_table.ipynb>data table notebook</a>'\n",
              "            + ' to learn more about interactive tables.';\n",
              "          element.innerHTML = '';\n",
              "          dataTable['output_type'] = 'display_data';\n",
              "          await google.colab.output.renderOutput(dataTable, element);\n",
              "          const docLink = document.createElement('div');\n",
              "          docLink.innerHTML = docLinkHtml;\n",
              "          element.appendChild(docLink);\n",
              "        }\n",
              "      </script>\n",
              "    </div>\n",
              "  </div>\n",
              "  "
            ]
          },
          "metadata": {},
          "execution_count": 23
        }
      ]
    },
    {
      "cell_type": "markdown",
      "source": [
        "Olhando para o gráfico e para a tabela, na qual podemos ver em ordem as casas com maiores e menores metragem, apesar sim de ter uma relação direta dos preços, podemos ver que a casa com a maior metragem não é a mais cara. Justamente com esse tipo de análise que entemos a real necessidade de fazer uma regressão linear, é a unica maneira para predizer valores. A olho nu, olhando variáveis separadas é quase impossível chegar a este tipo de conclusão."
      ],
      "metadata": {
        "id": "NCL04gJU9DIg"
      }
    },
    {
      "cell_type": "markdown",
      "source": [
        "Outra conclusão que podemos chegar, é que esse gráfico tem o comportamento bem parecido ao da diferença da área da casa com a área da casa com os 15 vizinhos mais próximos, o que é justificável porque um dado tem total dependência ao outro outro."
      ],
      "metadata": {
        "id": "b664cK_YiISi"
      }
    },
    {
      "cell_type": "code",
      "source": [
        "house.head()"
      ],
      "metadata": {
        "colab": {
          "base_uri": "https://localhost:8080/",
          "height": 270
        },
        "id": "oXNMqywfFoXu",
        "outputId": "da310d86-93ba-456c-f6fa-67f86f3673e1"
      },
      "execution_count": null,
      "outputs": [
        {
          "output_type": "execute_result",
          "data": {
            "text/plain": [
              "      price  bedrooms  bathrooms  sqft_living  sqft_lot  floors  waterfront  \\\n",
              "0  221900.0         3       1.00       109.63    524.90     1.0           0   \n",
              "1  538000.0         3       2.25       238.76    672.80     2.0           0   \n",
              "2  180000.0         2       1.00        71.54    929.03     1.0           0   \n",
              "3  604000.0         4       3.00       182.09    464.52     1.0           0   \n",
              "4  510000.0         3       2.00       156.08    750.66     1.0           0   \n",
              "\n",
              "   view  condition  grade  sqft_above  sqft_basement  yr_built  yr_renovated  \\\n",
              "0     0          3      7      109.63           0.00      1955             0   \n",
              "1     0          3      7      201.60          37.16      1951          1991   \n",
              "2     0          3      6       71.54           0.00      1933             0   \n",
              "3     0          5      7       97.55          84.54      1965             0   \n",
              "4     0          3      8      156.08           0.00      1987             0   \n",
              "\n",
              "   zipcode      lat     long  sqft_living15  sqft_lot15  comp_living  \n",
              "0    98178  47.5112 -122.257         124.49      524.90       -14.86  \n",
              "1    98125  47.7210 -122.319         157.01      709.69        81.75  \n",
              "2    98028  47.7379 -122.233         252.70      748.98      -181.16  \n",
              "3    98136  47.5208 -122.393         126.35      464.52        55.74  \n",
              "4    98074  47.6168 -122.045         167.23      697.05       -11.15  "
            ],
            "text/html": [
              "\n",
              "  <div id=\"df-02777558-46a8-49be-8349-26e428c07e5a\">\n",
              "    <div class=\"colab-df-container\">\n",
              "      <div>\n",
              "<style scoped>\n",
              "    .dataframe tbody tr th:only-of-type {\n",
              "        vertical-align: middle;\n",
              "    }\n",
              "\n",
              "    .dataframe tbody tr th {\n",
              "        vertical-align: top;\n",
              "    }\n",
              "\n",
              "    .dataframe thead th {\n",
              "        text-align: right;\n",
              "    }\n",
              "</style>\n",
              "<table border=\"1\" class=\"dataframe\">\n",
              "  <thead>\n",
              "    <tr style=\"text-align: right;\">\n",
              "      <th></th>\n",
              "      <th>price</th>\n",
              "      <th>bedrooms</th>\n",
              "      <th>bathrooms</th>\n",
              "      <th>sqft_living</th>\n",
              "      <th>sqft_lot</th>\n",
              "      <th>floors</th>\n",
              "      <th>waterfront</th>\n",
              "      <th>view</th>\n",
              "      <th>condition</th>\n",
              "      <th>grade</th>\n",
              "      <th>sqft_above</th>\n",
              "      <th>sqft_basement</th>\n",
              "      <th>yr_built</th>\n",
              "      <th>yr_renovated</th>\n",
              "      <th>zipcode</th>\n",
              "      <th>lat</th>\n",
              "      <th>long</th>\n",
              "      <th>sqft_living15</th>\n",
              "      <th>sqft_lot15</th>\n",
              "      <th>comp_living</th>\n",
              "    </tr>\n",
              "  </thead>\n",
              "  <tbody>\n",
              "    <tr>\n",
              "      <th>0</th>\n",
              "      <td>221900.0</td>\n",
              "      <td>3</td>\n",
              "      <td>1.00</td>\n",
              "      <td>109.63</td>\n",
              "      <td>524.90</td>\n",
              "      <td>1.0</td>\n",
              "      <td>0</td>\n",
              "      <td>0</td>\n",
              "      <td>3</td>\n",
              "      <td>7</td>\n",
              "      <td>109.63</td>\n",
              "      <td>0.00</td>\n",
              "      <td>1955</td>\n",
              "      <td>0</td>\n",
              "      <td>98178</td>\n",
              "      <td>47.5112</td>\n",
              "      <td>-122.257</td>\n",
              "      <td>124.49</td>\n",
              "      <td>524.90</td>\n",
              "      <td>-14.86</td>\n",
              "    </tr>\n",
              "    <tr>\n",
              "      <th>1</th>\n",
              "      <td>538000.0</td>\n",
              "      <td>3</td>\n",
              "      <td>2.25</td>\n",
              "      <td>238.76</td>\n",
              "      <td>672.80</td>\n",
              "      <td>2.0</td>\n",
              "      <td>0</td>\n",
              "      <td>0</td>\n",
              "      <td>3</td>\n",
              "      <td>7</td>\n",
              "      <td>201.60</td>\n",
              "      <td>37.16</td>\n",
              "      <td>1951</td>\n",
              "      <td>1991</td>\n",
              "      <td>98125</td>\n",
              "      <td>47.7210</td>\n",
              "      <td>-122.319</td>\n",
              "      <td>157.01</td>\n",
              "      <td>709.69</td>\n",
              "      <td>81.75</td>\n",
              "    </tr>\n",
              "    <tr>\n",
              "      <th>2</th>\n",
              "      <td>180000.0</td>\n",
              "      <td>2</td>\n",
              "      <td>1.00</td>\n",
              "      <td>71.54</td>\n",
              "      <td>929.03</td>\n",
              "      <td>1.0</td>\n",
              "      <td>0</td>\n",
              "      <td>0</td>\n",
              "      <td>3</td>\n",
              "      <td>6</td>\n",
              "      <td>71.54</td>\n",
              "      <td>0.00</td>\n",
              "      <td>1933</td>\n",
              "      <td>0</td>\n",
              "      <td>98028</td>\n",
              "      <td>47.7379</td>\n",
              "      <td>-122.233</td>\n",
              "      <td>252.70</td>\n",
              "      <td>748.98</td>\n",
              "      <td>-181.16</td>\n",
              "    </tr>\n",
              "    <tr>\n",
              "      <th>3</th>\n",
              "      <td>604000.0</td>\n",
              "      <td>4</td>\n",
              "      <td>3.00</td>\n",
              "      <td>182.09</td>\n",
              "      <td>464.52</td>\n",
              "      <td>1.0</td>\n",
              "      <td>0</td>\n",
              "      <td>0</td>\n",
              "      <td>5</td>\n",
              "      <td>7</td>\n",
              "      <td>97.55</td>\n",
              "      <td>84.54</td>\n",
              "      <td>1965</td>\n",
              "      <td>0</td>\n",
              "      <td>98136</td>\n",
              "      <td>47.5208</td>\n",
              "      <td>-122.393</td>\n",
              "      <td>126.35</td>\n",
              "      <td>464.52</td>\n",
              "      <td>55.74</td>\n",
              "    </tr>\n",
              "    <tr>\n",
              "      <th>4</th>\n",
              "      <td>510000.0</td>\n",
              "      <td>3</td>\n",
              "      <td>2.00</td>\n",
              "      <td>156.08</td>\n",
              "      <td>750.66</td>\n",
              "      <td>1.0</td>\n",
              "      <td>0</td>\n",
              "      <td>0</td>\n",
              "      <td>3</td>\n",
              "      <td>8</td>\n",
              "      <td>156.08</td>\n",
              "      <td>0.00</td>\n",
              "      <td>1987</td>\n",
              "      <td>0</td>\n",
              "      <td>98074</td>\n",
              "      <td>47.6168</td>\n",
              "      <td>-122.045</td>\n",
              "      <td>167.23</td>\n",
              "      <td>697.05</td>\n",
              "      <td>-11.15</td>\n",
              "    </tr>\n",
              "  </tbody>\n",
              "</table>\n",
              "</div>\n",
              "      <button class=\"colab-df-convert\" onclick=\"convertToInteractive('df-02777558-46a8-49be-8349-26e428c07e5a')\"\n",
              "              title=\"Convert this dataframe to an interactive table.\"\n",
              "              style=\"display:none;\">\n",
              "        \n",
              "  <svg xmlns=\"http://www.w3.org/2000/svg\" height=\"24px\"viewBox=\"0 0 24 24\"\n",
              "       width=\"24px\">\n",
              "    <path d=\"M0 0h24v24H0V0z\" fill=\"none\"/>\n",
              "    <path d=\"M18.56 5.44l.94 2.06.94-2.06 2.06-.94-2.06-.94-.94-2.06-.94 2.06-2.06.94zm-11 1L8.5 8.5l.94-2.06 2.06-.94-2.06-.94L8.5 2.5l-.94 2.06-2.06.94zm10 10l.94 2.06.94-2.06 2.06-.94-2.06-.94-.94-2.06-.94 2.06-2.06.94z\"/><path d=\"M17.41 7.96l-1.37-1.37c-.4-.4-.92-.59-1.43-.59-.52 0-1.04.2-1.43.59L10.3 9.45l-7.72 7.72c-.78.78-.78 2.05 0 2.83L4 21.41c.39.39.9.59 1.41.59.51 0 1.02-.2 1.41-.59l7.78-7.78 2.81-2.81c.8-.78.8-2.07 0-2.86zM5.41 20L4 18.59l7.72-7.72 1.47 1.35L5.41 20z\"/>\n",
              "  </svg>\n",
              "      </button>\n",
              "      \n",
              "  <style>\n",
              "    .colab-df-container {\n",
              "      display:flex;\n",
              "      flex-wrap:wrap;\n",
              "      gap: 12px;\n",
              "    }\n",
              "\n",
              "    .colab-df-convert {\n",
              "      background-color: #E8F0FE;\n",
              "      border: none;\n",
              "      border-radius: 50%;\n",
              "      cursor: pointer;\n",
              "      display: none;\n",
              "      fill: #1967D2;\n",
              "      height: 32px;\n",
              "      padding: 0 0 0 0;\n",
              "      width: 32px;\n",
              "    }\n",
              "\n",
              "    .colab-df-convert:hover {\n",
              "      background-color: #E2EBFA;\n",
              "      box-shadow: 0px 1px 2px rgba(60, 64, 67, 0.3), 0px 1px 3px 1px rgba(60, 64, 67, 0.15);\n",
              "      fill: #174EA6;\n",
              "    }\n",
              "\n",
              "    [theme=dark] .colab-df-convert {\n",
              "      background-color: #3B4455;\n",
              "      fill: #D2E3FC;\n",
              "    }\n",
              "\n",
              "    [theme=dark] .colab-df-convert:hover {\n",
              "      background-color: #434B5C;\n",
              "      box-shadow: 0px 1px 3px 1px rgba(0, 0, 0, 0.15);\n",
              "      filter: drop-shadow(0px 1px 2px rgba(0, 0, 0, 0.3));\n",
              "      fill: #FFFFFF;\n",
              "    }\n",
              "  </style>\n",
              "\n",
              "      <script>\n",
              "        const buttonEl =\n",
              "          document.querySelector('#df-02777558-46a8-49be-8349-26e428c07e5a button.colab-df-convert');\n",
              "        buttonEl.style.display =\n",
              "          google.colab.kernel.accessAllowed ? 'block' : 'none';\n",
              "\n",
              "        async function convertToInteractive(key) {\n",
              "          const element = document.querySelector('#df-02777558-46a8-49be-8349-26e428c07e5a');\n",
              "          const dataTable =\n",
              "            await google.colab.kernel.invokeFunction('convertToInteractive',\n",
              "                                                     [key], {});\n",
              "          if (!dataTable) return;\n",
              "\n",
              "          const docLinkHtml = 'Like what you see? Visit the ' +\n",
              "            '<a target=\"_blank\" href=https://colab.research.google.com/notebooks/data_table.ipynb>data table notebook</a>'\n",
              "            + ' to learn more about interactive tables.';\n",
              "          element.innerHTML = '';\n",
              "          dataTable['output_type'] = 'display_data';\n",
              "          await google.colab.output.renderOutput(dataTable, element);\n",
              "          const docLink = document.createElement('div');\n",
              "          docLink.innerHTML = docLinkHtml;\n",
              "          element.appendChild(docLink);\n",
              "        }\n",
              "      </script>\n",
              "    </div>\n",
              "  </div>\n",
              "  "
            ]
          },
          "metadata": {},
          "execution_count": 24
        }
      ]
    },
    {
      "cell_type": "markdown",
      "metadata": {
        "id": "UMWSMcH2OJTW"
      },
      "source": [
        "A sua visualização responde uma das suas perguntas? Se não, o que ela responde?"
      ]
    },
    {
      "cell_type": "markdown",
      "metadata": {
        "id": "RV2Fo8iuOJTX"
      },
      "source": [
        "**RESPOSTA** (VALE 0.75 pontos): (responda aqui, dê dois cliques para editar)"
      ]
    },
    {
      "cell_type": "markdown",
      "source": [
        "Sim, conseguimos ter uma boa resposta olhando para os gráficos, podemos olhar os dados das colunas com outros olhos, tem um panorama diferente, o que ajuda não só nós mas sim quem for olhar pela primeira vez, deixa o trabalho muito mais comunicativo."
      ],
      "metadata": {
        "id": "-Z1WDpEA_MUB"
      }
    },
    {
      "cell_type": "markdown",
      "metadata": {
        "id": "bOXY43qcOJTX"
      },
      "source": [
        "# Exercicio 3. (3 pontos)\n",
        "\n",
        "Faremos uma analise exploratoria sobre estes dados, preencha abaixo analises sobre o conjunto de dados. Para isso a biblioteca numpy para obter a contagem, média, mediana e os quartis."
      ]
    },
    {
      "cell_type": "markdown",
      "source": [
        "Vamos tabalhar com o tamanho das casas, atribuindo variaveis para cada contagem."
      ],
      "metadata": {
        "id": "fvnjQfgkjyA_"
      }
    },
    {
      "cell_type": "code",
      "execution_count": null,
      "metadata": {
        "id": "7rTAoLijOJTX"
      },
      "outputs": [],
      "source": [
        "#### (VALE 0.75 pontos)\n",
        "#### EXECUTE OS COMANDOS ABAIXO, USE MAIS CELULAS SE NECESSARIO\n",
        "\n",
        "media_casas = np.mean(house['sqft_living'])\n",
        "mediana_casas = np.median(house['sqft_living'])\n",
        "quartil_1_casas = np.quantile(house['sqft_living'],0.25)\n",
        "quartil_3_casas = np.quantile(house['sqft_living'],0.75)"
      ]
    },
    {
      "cell_type": "code",
      "execution_count": null,
      "metadata": {
        "id": "LEyo8aStOJTY",
        "outputId": "ca8596a0-cabb-4f55-ecb4-b047ae70bf18",
        "colab": {
          "base_uri": "https://localhost:8080/"
        }
      },
      "outputs": [
        {
          "output_type": "stream",
          "name": "stdout",
          "text": [
            "Existem 21613 observações no conjunto de dados\n",
            "Existem 20 variaveis no conjunto de dados\n",
            "O tamanho médio das casa é de 193.23 metros quadrados\n",
            "A mediana do tamanho das casas é de 177.44 metros quadrados\n",
            "primeiro quartil 132.57 do tamanho das casas\n",
            "terceiro quartil 236.9 do tamanho das casas\n"
          ]
        }
      ],
      "source": [
        "# VALE 0.75 pontos\n",
        "# Substitua __ pelos valores solicitados\n",
        "print('Existem {} observações no conjunto de dados'.format(house.shape[0]))\n",
        "print('Existem {} variaveis no conjunto de dados'.format(house.shape[1]))\n",
        "print('O tamanho médio das casa é de {} metros quadrados'.format(round(media_casas,2)))\n",
        "print('A mediana do tamanho das casas é de {} metros quadrados'.format(mediana_casas))\n",
        "\n",
        "# Quartis\n",
        "print('primeiro quartil {} do tamanho das casas'.format(quartil_1_casas))\n",
        "print('terceiro quartil {} do tamanho das casas'.format(quartil_3_casas))"
      ]
    },
    {
      "cell_type": "markdown",
      "metadata": {
        "id": "EkAMFDKsOJTY"
      },
      "source": [
        "Neste conjunto de dados há casas com tamanho muito acima ou abaixo do esperado (outliers)? Faça um gráfico de caixa (boxplot) do tamanho das casas."
      ]
    },
    {
      "cell_type": "code",
      "execution_count": null,
      "metadata": {
        "id": "uT-aY1JYOJTZ",
        "colab": {
          "base_uri": "https://localhost:8080/",
          "height": 326
        },
        "outputId": "0c1a2826-68c1-4fe6-8b06-5ccfc1f7a407"
      },
      "outputs": [
        {
          "output_type": "display_data",
          "data": {
            "text/plain": [
              "<Figure size 720x360 with 1 Axes>"
            ],
            "image/png": "[encoded data removed]"
          },
          "metadata": {}
        }
      ],
      "source": [
        "#### (VALE 0.75 pontos)\n",
        "#### CONSTRUA O SEU GRAFICO ABAIXO, USE MAIS CELULAS SE NECESSARIO\n",
        "boxplot_casas = house.boxplot(column=['sqft_living'],grid=True, rot=0, fontsize=15,figsize=(10,5)) "
      ]
    },
    {
      "cell_type": "markdown",
      "metadata": {
        "id": "TgHVE9iSOJTZ"
      },
      "source": [
        "Observando a sua visualização, há casas com tamanhos muito abaixo ou acima do esperado (outliers)? "
      ]
    },
    {
      "cell_type": "markdown",
      "source": [
        "Temos outliers acima do esperado, casas muito maiores que a maioria, enquanto a média está em 193,23 metros quadrados, temos casas gigantes em torno de 1000 metros quadrados, o que mostra uma grande diferença."
      ],
      "metadata": {
        "id": "jLFj1JvuI2pl"
      }
    },
    {
      "cell_type": "markdown",
      "source": [
        "Gráfico de histograma dos preços - Ajuda a entender os outliers"
      ],
      "metadata": {
        "id": "qIMA8QQX0v9K"
      }
    },
    {
      "cell_type": "code",
      "source": [
        "sns.set_style('darkgrid')\n",
        "\n",
        "plt.figure(figsize=[12,8])\n",
        "ax = plt.hist(house['price'], bins = 100)   #bins = números de barras\n",
        "plt.title('Histograma', loc='left', fontsize=18)\n",
        "plt.xlabel('preços'.upper(), fontsize=14)\n",
        "plt.ylabel('casas'.upper(), fontsize=14)\n",
        "plt.show()"
      ],
      "metadata": {
        "colab": {
          "base_uri": "https://localhost:8080/",
          "height": 521
        },
        "id": "J-WYwjCG0yS4",
        "outputId": "32f8a38b-5870-4118-b8c8-59ec33539e88"
      },
      "execution_count": null,
      "outputs": [
        {
          "output_type": "display_data",
          "data": {
            "text/plain": [
              "<Figure size 864x576 with 1 Axes>"
            ],
            "image/png": "[encoded data removed]"
          },
          "metadata": {}
        }
      ]
    },
    {
      "cell_type": "markdown",
      "metadata": {
        "id": "w8po3fZsOJTZ"
      },
      "source": [
        "**RESPOSTA** (VALE 0.75 pontos): (responda aqui, dê dois cliques para editar)"
      ]
    },
    {
      "cell_type": "markdown",
      "source": [
        "A maioria das casas está entre os valores 0 e 1 milhão de dólares, porem têm casas com preços muito mais altos, neste gráfico nem é possível visualizar as casas com os maiores preços, para isso vamos utilizar um bloxplot para visualizar melhor"
      ],
      "metadata": {
        "id": "13jI1sKlklnX"
      }
    },
    {
      "cell_type": "code",
      "source": [
        "boxplot_casas = house.boxplot(column=['price'],grid=True, rot=0, fontsize=15,figsize=(10,5)) "
      ],
      "metadata": {
        "colab": {
          "base_uri": "https://localhost:8080/",
          "height": 336
        },
        "id": "dafwb_Qtk0NW",
        "outputId": "7c78edae-3b4a-4a78-e0ea-ce9040d7c321"
      },
      "execution_count": null,
      "outputs": [
        {
          "output_type": "display_data",
          "data": {
            "text/plain": [
              "<Figure size 720x360 with 1 Axes>"
            ],
            "image/png": "[encoded data removed]"
          },
          "metadata": {}
        }
      ]
    },
    {
      "cell_type": "markdown",
      "source": [
        "Neste ultimo gráfico temos a real dimensão de quão discrepante são algumas casas, chegando, a mais cara, a quase a 8 milhões de dólares. Para conseguir ver estes números, vamos obter a contagem, feita anteriormente com a área da casa, agora com os preços."
      ],
      "metadata": {
        "id": "r2sSGjhcmT1J"
      }
    },
    {
      "cell_type": "code",
      "source": [
        "media_casas_price = np.mean(house['price'])\n",
        "mediana_casas_price = np.median(house['price'])\n",
        "quartil_1_casas_price = np.quantile(house['price'],0.25)\n",
        "quartil_3_casas_price = np.quantile(house['price'],0.75)"
      ],
      "metadata": {
        "id": "Lfh3gAcllFDr"
      },
      "execution_count": null,
      "outputs": []
    },
    {
      "cell_type": "code",
      "source": [
        "print('O preço médio das casa é de {} dolares'.format(round(media_casas_price,2)))\n",
        "print('A mediana do preço das casas é de {} dolares'.format(mediana_casas_price))\n",
        "print('primeiro quartil {} do preço das casas'.format(quartil_1_casas_price))\n",
        "print('terceiro quartil {} do preço das casas'.format(quartil_3_casas_price))\n",
        "print('Casa com o maior preço: {} $'.format(house['price'].max()))\n",
        "print('Casa com o menor preço: {} $'.format(house['price'].min()))"
      ],
      "metadata": {
        "colab": {
          "base_uri": "https://localhost:8080/"
        },
        "id": "T_BwjueElPwP",
        "outputId": "f8ee3ef1-8219-479d-a0b1-f8f2b989af7d"
      },
      "execution_count": null,
      "outputs": [
        {
          "output_type": "stream",
          "name": "stdout",
          "text": [
            "O preço médio das casa é de 540088.14 dolares\n",
            "A mediana do preço das casas é de 450000.0 dolares\n",
            "primeiro quartil 321950.0 do preço das casas\n",
            "terceiro quartil 645000.0 do preço das casas\n",
            "Casa com o maior preço: 7700000.0 $\n",
            "Casa com o menor preço: 75000.0 $\n"
          ]
        }
      ]
    },
    {
      "cell_type": "markdown",
      "source": [
        "Deste modo conseguimos ter uma visão geral bem ampla dos nossos dados, entender melhor com que tipo de dados estamos trabalhando. Desta forma podemos partir para a parte final, construir o modelo e comparar os resultados."
      ],
      "metadata": {
        "id": "1G0JXg1Cnu_7"
      }
    },
    {
      "cell_type": "markdown",
      "metadata": {
        "id": "H4jKaESSOJTZ"
      },
      "source": [
        "# Exercicio 4. (4 pontos)\n",
        "\n",
        "Construa um modelo de regressão linear para predizer a variável **price** (preço) com **statsmodels.api**."
      ]
    },
    {
      "cell_type": "markdown",
      "source": [
        "Primeiramente vamos dividir a nossa tabela em X e y, X sendo os dados independentes e y o preço, valor dependente."
      ],
      "metadata": {
        "id": "BnBa-5s2oJjj"
      }
    },
    {
      "cell_type": "code",
      "source": [
        "#### (VALE 0.625 pontos)\n",
        "#### EXECUTE OS COMANDOS ABAIXO, USE MAIS CELULAS SE NECESSARIO\n",
        "\n",
        "X = house.drop(columns = 'price')\n",
        "y = house['price']"
      ],
      "metadata": {
        "id": "5yq0pbzCjCLU"
      },
      "execution_count": null,
      "outputs": []
    },
    {
      "cell_type": "code",
      "execution_count": null,
      "metadata": {
        "id": "DrkYvd5bOJTa"
      },
      "outputs": [],
      "source": [
        "y = pd.DataFrame(y)\n",
        "mod = sm.OLS(y,X)\n",
        "res = mod.fit()"
      ]
    },
    {
      "cell_type": "markdown",
      "metadata": {
        "id": "YaYzNqyFOJTa"
      },
      "source": [
        "Coloque abaixo a saida do seu modelo usando **seu_modelo.summary()**."
      ]
    },
    {
      "cell_type": "code",
      "execution_count": null,
      "metadata": {
        "id": "JZ3AJAseOJTa",
        "colab": {
          "base_uri": "https://localhost:8080/",
          "height": 849
        },
        "outputId": "ed37131d-15a0-4e4a-db53-9f84708ed568"
      },
      "outputs": [
        {
          "output_type": "execute_result",
          "data": {
            "text/plain": [
              "<class 'statsmodels.iolib.summary.Summary'>\n",
              "\"\"\"\n",
              "                                 OLS Regression Results                                \n",
              "=======================================================================================\n",
              "Dep. Variable:                  price   R-squared (uncentered):                   0.905\n",
              "Model:                            OLS   Adj. R-squared (uncentered):              0.905\n",
              "Method:                 Least Squares   F-statistic:                          1.144e+04\n",
              "Date:                Mon, 25 Apr 2022   Prob (F-statistic):                        0.00\n",
              "Time:                        12:21:22   Log-Likelihood:                     -2.9461e+05\n",
              "No. Observations:               21613   AIC:                                  5.892e+05\n",
              "Df Residuals:                   21595   BIC:                                  5.894e+05\n",
              "Df Model:                          18                                                  \n",
              "Covariance Type:            nonrobust                                                  \n",
              "=================================================================================\n",
              "                    coef    std err          t      P>|t|      [0.025      0.975]\n",
              "---------------------------------------------------------------------------------\n",
              "bedrooms      -3.551e+04   1888.729    -18.802      0.000   -3.92e+04   -3.18e+04\n",
              "bathrooms      4.106e+04   3253.784     12.618      0.000    3.47e+04    4.74e+04\n",
              "sqft_living   -2.367e+05   2.86e+05     -0.828      0.408   -7.97e+05    3.24e+05\n",
              "sqft_lot          1.4350      0.515      2.784      0.005       0.425       2.445\n",
              "floors         5276.1731   3541.418      1.490      0.136   -1665.267    1.22e+04\n",
              "waterfront     5.833e+05   1.74e+04     33.599      0.000    5.49e+05    6.17e+05\n",
              "view           5.236e+04   2128.313     24.600      0.000    4.82e+04    5.65e+04\n",
              "condition      2.721e+04   2323.836     11.709      0.000    2.27e+04    3.18e+04\n",
              "grade          9.546e+04   2145.636     44.491      0.000    9.13e+04    9.97e+04\n",
              "sqft_above     3.571e+05   4.29e+05      0.833      0.405   -4.84e+05     1.2e+06\n",
              "sqft_basement  3.568e+05   4.29e+05      0.832      0.406   -4.84e+05     1.2e+06\n",
              "yr_built      -2561.8350     68.007    -37.670      0.000   -2695.133   -2428.537\n",
              "yr_renovated     20.4345      3.646      5.604      0.000      13.287      27.582\n",
              "zipcode        -518.9798     17.826    -29.113      0.000    -553.921    -484.039\n",
              "lat            6.021e+05   1.07e+04     56.096      0.000    5.81e+05    6.23e+05\n",
              "long          -2.179e+05   1.31e+04    -16.679      0.000   -2.43e+05   -1.92e+05\n",
              "sqft_living15 -1.182e+05   1.43e+05     -0.827      0.408   -3.99e+05    1.62e+05\n",
              "sqft_lot15       -4.0458      0.788     -5.133      0.000      -5.591      -2.501\n",
              "comp_living   -1.185e+05   1.43e+05     -0.829      0.407   -3.99e+05    1.62e+05\n",
              "==============================================================================\n",
              "Omnibus:                    18398.945   Durbin-Watson:                   1.991\n",
              "Prob(Omnibus):                  0.000   Jarque-Bera (JB):          1871985.384\n",
              "Skew:                           3.571   Prob(JB):                         0.00\n",
              "Kurtosis:                      48.030   Cond. No.                     4.67e+18\n",
              "==============================================================================\n",
              "\n",
              "Warnings:\n",
              "[1] Standard Errors assume that the covariance matrix of the errors is correctly specified.\n",
              "[2] The smallest eigenvalue is 9.53e-24. This might indicate that there are\n",
              "strong multicollinearity problems or that the design matrix is singular.\n",
              "\"\"\""
            ],
            "text/html": [
              "<table class=\"simpletable\">\n",
              "<caption>OLS Regression Results</caption>\n",
              "<tr>\n",
              "  <th>Dep. Variable:</th>          <td>price</td>      <th>  R-squared (uncentered):</th>       <td>   0.905</td>  \n",
              "</tr>\n",
              "<tr>\n",
              "  <th>Model:</th>                   <td>OLS</td>       <th>  Adj. R-squared (uncentered):</th>  <td>   0.905</td>  \n",
              "</tr>\n",
              "<tr>\n",
              "  <th>Method:</th>             <td>Least Squares</td>  <th>  F-statistic:       </th>           <td>1.144e+04</td> \n",
              "</tr>\n",
              "<tr>\n",
              "  <th>Date:</th>             <td>Mon, 25 Apr 2022</td> <th>  Prob (F-statistic):</th>            <td>  0.00</td>   \n",
              "</tr>\n",
              "<tr>\n",
              "  <th>Time:</th>                 <td>12:21:22</td>     <th>  Log-Likelihood:    </th>          <td>-2.9461e+05</td>\n",
              "</tr>\n",
              "<tr>\n",
              "  <th>No. Observations:</th>      <td> 21613</td>      <th>  AIC:               </th>           <td>5.892e+05</td> \n",
              "</tr>\n",
              "<tr>\n",
              "  <th>Df Residuals:</th>          <td> 21595</td>      <th>  BIC:               </th>           <td>5.894e+05</td> \n",
              "</tr>\n",
              "<tr>\n",
              "  <th>Df Model:</th>              <td>    18</td>      <th>                     </th>               <td> </td>     \n",
              "</tr>\n",
              "<tr>\n",
              "  <th>Covariance Type:</th>      <td>nonrobust</td>    <th>                     </th>               <td> </td>     \n",
              "</tr>\n",
              "</table>\n",
              "<table class=\"simpletable\">\n",
              "<tr>\n",
              "        <td></td>           <th>coef</th>     <th>std err</th>      <th>t</th>      <th>P>|t|</th>  <th>[0.025</th>    <th>0.975]</th>  \n",
              "</tr>\n",
              "<tr>\n",
              "  <th>bedrooms</th>      <td>-3.551e+04</td> <td> 1888.729</td> <td>  -18.802</td> <td> 0.000</td> <td>-3.92e+04</td> <td>-3.18e+04</td>\n",
              "</tr>\n",
              "<tr>\n",
              "  <th>bathrooms</th>     <td> 4.106e+04</td> <td> 3253.784</td> <td>   12.618</td> <td> 0.000</td> <td> 3.47e+04</td> <td> 4.74e+04</td>\n",
              "</tr>\n",
              "<tr>\n",
              "  <th>sqft_living</th>   <td>-2.367e+05</td> <td> 2.86e+05</td> <td>   -0.828</td> <td> 0.408</td> <td>-7.97e+05</td> <td> 3.24e+05</td>\n",
              "</tr>\n",
              "<tr>\n",
              "  <th>sqft_lot</th>      <td>    1.4350</td> <td>    0.515</td> <td>    2.784</td> <td> 0.005</td> <td>    0.425</td> <td>    2.445</td>\n",
              "</tr>\n",
              "<tr>\n",
              "  <th>floors</th>        <td> 5276.1731</td> <td> 3541.418</td> <td>    1.490</td> <td> 0.136</td> <td>-1665.267</td> <td> 1.22e+04</td>\n",
              "</tr>\n",
              "<tr>\n",
              "  <th>waterfront</th>    <td> 5.833e+05</td> <td> 1.74e+04</td> <td>   33.599</td> <td> 0.000</td> <td> 5.49e+05</td> <td> 6.17e+05</td>\n",
              "</tr>\n",
              "<tr>\n",
              "  <th>view</th>          <td> 5.236e+04</td> <td> 2128.313</td> <td>   24.600</td> <td> 0.000</td> <td> 4.82e+04</td> <td> 5.65e+04</td>\n",
              "</tr>\n",
              "<tr>\n",
              "  <th>condition</th>     <td> 2.721e+04</td> <td> 2323.836</td> <td>   11.709</td> <td> 0.000</td> <td> 2.27e+04</td> <td> 3.18e+04</td>\n",
              "</tr>\n",
              "<tr>\n",
              "  <th>grade</th>         <td> 9.546e+04</td> <td> 2145.636</td> <td>   44.491</td> <td> 0.000</td> <td> 9.13e+04</td> <td> 9.97e+04</td>\n",
              "</tr>\n",
              "<tr>\n",
              "  <th>sqft_above</th>    <td> 3.571e+05</td> <td> 4.29e+05</td> <td>    0.833</td> <td> 0.405</td> <td>-4.84e+05</td> <td>  1.2e+06</td>\n",
              "</tr>\n",
              "<tr>\n",
              "  <th>sqft_basement</th> <td> 3.568e+05</td> <td> 4.29e+05</td> <td>    0.832</td> <td> 0.406</td> <td>-4.84e+05</td> <td>  1.2e+06</td>\n",
              "</tr>\n",
              "<tr>\n",
              "  <th>yr_built</th>      <td>-2561.8350</td> <td>   68.007</td> <td>  -37.670</td> <td> 0.000</td> <td>-2695.133</td> <td>-2428.537</td>\n",
              "</tr>\n",
              "<tr>\n",
              "  <th>yr_renovated</th>  <td>   20.4345</td> <td>    3.646</td> <td>    5.604</td> <td> 0.000</td> <td>   13.287</td> <td>   27.582</td>\n",
              "</tr>\n",
              "<tr>\n",
              "  <th>zipcode</th>       <td> -518.9798</td> <td>   17.826</td> <td>  -29.113</td> <td> 0.000</td> <td> -553.921</td> <td> -484.039</td>\n",
              "</tr>\n",
              "<tr>\n",
              "  <th>lat</th>           <td> 6.021e+05</td> <td> 1.07e+04</td> <td>   56.096</td> <td> 0.000</td> <td> 5.81e+05</td> <td> 6.23e+05</td>\n",
              "</tr>\n",
              "<tr>\n",
              "  <th>long</th>          <td>-2.179e+05</td> <td> 1.31e+04</td> <td>  -16.679</td> <td> 0.000</td> <td>-2.43e+05</td> <td>-1.92e+05</td>\n",
              "</tr>\n",
              "<tr>\n",
              "  <th>sqft_living15</th> <td>-1.182e+05</td> <td> 1.43e+05</td> <td>   -0.827</td> <td> 0.408</td> <td>-3.99e+05</td> <td> 1.62e+05</td>\n",
              "</tr>\n",
              "<tr>\n",
              "  <th>sqft_lot15</th>    <td>   -4.0458</td> <td>    0.788</td> <td>   -5.133</td> <td> 0.000</td> <td>   -5.591</td> <td>   -2.501</td>\n",
              "</tr>\n",
              "<tr>\n",
              "  <th>comp_living</th>   <td>-1.185e+05</td> <td> 1.43e+05</td> <td>   -0.829</td> <td> 0.407</td> <td>-3.99e+05</td> <td> 1.62e+05</td>\n",
              "</tr>\n",
              "</table>\n",
              "<table class=\"simpletable\">\n",
              "<tr>\n",
              "  <th>Omnibus:</th>       <td>18398.945</td> <th>  Durbin-Watson:     </th>  <td>   1.991</td>  \n",
              "</tr>\n",
              "<tr>\n",
              "  <th>Prob(Omnibus):</th>  <td> 0.000</td>   <th>  Jarque-Bera (JB):  </th> <td>1871985.384</td>\n",
              "</tr>\n",
              "<tr>\n",
              "  <th>Skew:</th>           <td> 3.571</td>   <th>  Prob(JB):          </th>  <td>    0.00</td>  \n",
              "</tr>\n",
              "<tr>\n",
              "  <th>Kurtosis:</th>       <td>48.030</td>   <th>  Cond. No.          </th>  <td>4.67e+18</td>  \n",
              "</tr>\n",
              "</table><br/><br/>Warnings:<br/>[1] Standard Errors assume that the covariance matrix of the errors is correctly specified.<br/>[2] The smallest eigenvalue is 9.53e-24. This might indicate that there are<br/>strong multicollinearity problems or that the design matrix is singular."
            ]
          },
          "metadata": {},
          "execution_count": 34
        }
      ],
      "source": [
        "#### (VALE 0.625 pontos)\n",
        "#### EXECUTE O COMANDO ABAIXO\n",
        "\n",
        "res.summary()"
      ]
    },
    {
      "cell_type": "markdown",
      "metadata": {
        "id": "knkZkLUJOJTb"
      },
      "source": [
        "Faça outro modelo usando a biblioteca **sklearn**."
      ]
    },
    {
      "cell_type": "code",
      "source": [
        "#### (VALE 0.625 pontos)\n",
        "#### EXECUTE OS COMANDOS ABAIXO, USE MAIS CELULAS SE NECESSARIO\n",
        "\n",
        "resultado = pd.DataFrame({'Métrica':['R²','MAE']})\n",
        "\n",
        "def metodo_sklearn(X,y,m):\n",
        "  # Normalizando X\n",
        "  X_std = StandardScaler().fit_transform(X)\n",
        "  # Vamos separar o conjunto de dados em treino e teste, definindo o tamanho do conjunto de dados \n",
        "  # em 20%. E para que tenhamos os mesmos resultados, usaremos a semente 10.\n",
        "  X_train, X_test, y_train, y_test = train_test_split(X_std, y, test_size = 0.2,random_state=10) \n",
        "  #Construiremos o nosso modelo de regressão usando o subconjunto de treino.\n",
        "  lr = LinearRegression()\n",
        "  #treinando o modelo\n",
        "  lr.fit(X_train, y_train)\n",
        "  #O nosso primeiro modelo está pronto, mas como então saberemos se é um bom modelo? \n",
        "  #Primeiro, usaremos o nosso modelo para predizer a variavel y do conjunto de teste usando o conjunto X de teste\n",
        "  y_pred = lr.predict(X_test)\n",
        "  #MÉTRICAS:\n",
        "  #Coeficiente de determinacao\n",
        "  r2 = round(r2_score(y_test, y_pred),4)\n",
        "  #Erro médio absoluto\n",
        "  MAE_erro = round(mae(y_test, y_pred),4) \n",
        "  resultado[m] = [r2,MAE_erro]\n",
        "  return resultado                                     "
      ],
      "metadata": {
        "id": "zxOpQkSPuAnE"
      },
      "execution_count": null,
      "outputs": []
    },
    {
      "cell_type": "markdown",
      "metadata": {
        "id": "QmewNFExOJTb"
      },
      "source": [
        "Qual o valor de ${R}^{2}$ e $MAE$ obtido?"
      ]
    },
    {
      "cell_type": "code",
      "source": [
        "modelo = 'Modelo 1'\n",
        "metodo_sklearn(X,y,modelo)"
      ],
      "metadata": {
        "colab": {
          "base_uri": "https://localhost:8080/",
          "height": 112
        },
        "id": "NPWzreUyvcTy",
        "outputId": "6f8ef1ab-fed4-4751-e725-180909356deb"
      },
      "execution_count": null,
      "outputs": [
        {
          "output_type": "execute_result",
          "data": {
            "text/plain": [
              "  Métrica     Modelo 1\n",
              "0      R²       0.7028\n",
              "1     MAE  123571.1445"
            ],
            "text/html": [
              "\n",
              "  <div id=\"df-94a8c0df-f53a-4d61-a7e4-76449c8ae265\">\n",
              "    <div class=\"colab-df-container\">\n",
              "      <div>\n",
              "<style scoped>\n",
              "    .dataframe tbody tr th:only-of-type {\n",
              "        vertical-align: middle;\n",
              "    }\n",
              "\n",
              "    .dataframe tbody tr th {\n",
              "        vertical-align: top;\n",
              "    }\n",
              "\n",
              "    .dataframe thead th {\n",
              "        text-align: right;\n",
              "    }\n",
              "</style>\n",
              "<table border=\"1\" class=\"dataframe\">\n",
              "  <thead>\n",
              "    <tr style=\"text-align: right;\">\n",
              "      <th></th>\n",
              "      <th>Métrica</th>\n",
              "      <th>Modelo 1</th>\n",
              "    </tr>\n",
              "  </thead>\n",
              "  <tbody>\n",
              "    <tr>\n",
              "      <th>0</th>\n",
              "      <td>R²</td>\n",
              "      <td>0.7028</td>\n",
              "    </tr>\n",
              "    <tr>\n",
              "      <th>1</th>\n",
              "      <td>MAE</td>\n",
              "      <td>123571.1445</td>\n",
              "    </tr>\n",
              "  </tbody>\n",
              "</table>\n",
              "</div>\n",
              "      <button class=\"colab-df-convert\" onclick=\"convertToInteractive('df-94a8c0df-f53a-4d61-a7e4-76449c8ae265')\"\n",
              "              title=\"Convert this dataframe to an interactive table.\"\n",
              "              style=\"display:none;\">\n",
              "        \n",
              "  <svg xmlns=\"http://www.w3.org/2000/svg\" height=\"24px\"viewBox=\"0 0 24 24\"\n",
              "       width=\"24px\">\n",
              "    <path d=\"M0 0h24v24H0V0z\" fill=\"none\"/>\n",
              "    <path d=\"M18.56 5.44l.94 2.06.94-2.06 2.06-.94-2.06-.94-.94-2.06-.94 2.06-2.06.94zm-11 1L8.5 8.5l.94-2.06 2.06-.94-2.06-.94L8.5 2.5l-.94 2.06-2.06.94zm10 10l.94 2.06.94-2.06 2.06-.94-2.06-.94-.94-2.06-.94 2.06-2.06.94z\"/><path d=\"M17.41 7.96l-1.37-1.37c-.4-.4-.92-.59-1.43-.59-.52 0-1.04.2-1.43.59L10.3 9.45l-7.72 7.72c-.78.78-.78 2.05 0 2.83L4 21.41c.39.39.9.59 1.41.59.51 0 1.02-.2 1.41-.59l7.78-7.78 2.81-2.81c.8-.78.8-2.07 0-2.86zM5.41 20L4 18.59l7.72-7.72 1.47 1.35L5.41 20z\"/>\n",
              "  </svg>\n",
              "      </button>\n",
              "      \n",
              "  <style>\n",
              "    .colab-df-container {\n",
              "      display:flex;\n",
              "      flex-wrap:wrap;\n",
              "      gap: 12px;\n",
              "    }\n",
              "\n",
              "    .colab-df-convert {\n",
              "      background-color: #E8F0FE;\n",
              "      border: none;\n",
              "      border-radius: 50%;\n",
              "      cursor: pointer;\n",
              "      display: none;\n",
              "      fill: #1967D2;\n",
              "      height: 32px;\n",
              "      padding: 0 0 0 0;\n",
              "      width: 32px;\n",
              "    }\n",
              "\n",
              "    .colab-df-convert:hover {\n",
              "      background-color: #E2EBFA;\n",
              "      box-shadow: 0px 1px 2px rgba(60, 64, 67, 0.3), 0px 1px 3px 1px rgba(60, 64, 67, 0.15);\n",
              "      fill: #174EA6;\n",
              "    }\n",
              "\n",
              "    [theme=dark] .colab-df-convert {\n",
              "      background-color: #3B4455;\n",
              "      fill: #D2E3FC;\n",
              "    }\n",
              "\n",
              "    [theme=dark] .colab-df-convert:hover {\n",
              "      background-color: #434B5C;\n",
              "      box-shadow: 0px 1px 3px 1px rgba(0, 0, 0, 0.15);\n",
              "      filter: drop-shadow(0px 1px 2px rgba(0, 0, 0, 0.3));\n",
              "      fill: #FFFFFF;\n",
              "    }\n",
              "  </style>\n",
              "\n",
              "      <script>\n",
              "        const buttonEl =\n",
              "          document.querySelector('#df-94a8c0df-f53a-4d61-a7e4-76449c8ae265 button.colab-df-convert');\n",
              "        buttonEl.style.display =\n",
              "          google.colab.kernel.accessAllowed ? 'block' : 'none';\n",
              "\n",
              "        async function convertToInteractive(key) {\n",
              "          const element = document.querySelector('#df-94a8c0df-f53a-4d61-a7e4-76449c8ae265');\n",
              "          const dataTable =\n",
              "            await google.colab.kernel.invokeFunction('convertToInteractive',\n",
              "                                                     [key], {});\n",
              "          if (!dataTable) return;\n",
              "\n",
              "          const docLinkHtml = 'Like what you see? Visit the ' +\n",
              "            '<a target=\"_blank\" href=https://colab.research.google.com/notebooks/data_table.ipynb>data table notebook</a>'\n",
              "            + ' to learn more about interactive tables.';\n",
              "          element.innerHTML = '';\n",
              "          dataTable['output_type'] = 'display_data';\n",
              "          await google.colab.output.renderOutput(dataTable, element);\n",
              "          const docLink = document.createElement('div');\n",
              "          docLink.innerHTML = docLinkHtml;\n",
              "          element.appendChild(docLink);\n",
              "        }\n",
              "      </script>\n",
              "    </div>\n",
              "  </div>\n",
              "  "
            ]
          },
          "metadata": {},
          "execution_count": 36
        }
      ]
    },
    {
      "cell_type": "markdown",
      "metadata": {
        "id": "U4Zxy7SFOJTb"
      },
      "source": [
        "**RESPOSTA** (VALE 0.5 pontos): (responda aqui, dê dois cliques para editar)"
      ]
    },
    {
      "cell_type": "markdown",
      "source": [
        "Tivemos um R² relativamente bom, porem acredito que trabalhando com as variáveis podemos melhorá-lo. Mas temos que analisar também se vale a pena tirar algumas variáveis para melhorar o R². Muitas vezes nem sempre buscamos o melhor R² mas sim o valor mais real, isso quer dizer que é preferível algumas vezes ter um R² menor e não perder dados importantes, pois isso pode fazer diferença nos casos reais."
      ],
      "metadata": {
        "id": "4TsD9xkQOyom"
      }
    },
    {
      "cell_type": "markdown",
      "source": [
        "Agora falando do MAE, erro médio absoluto, acredito que temos que melhorar, pois uma casa com 123571 dólares de diferença tem um peso enorme para o bolso do comprador. Claro que se for considerar a casa mais cara, é um valor insignificativo, mas se este erro ocorrer com a casa com o menor valor, por exemplo, que é em torno de 75000 dólares, isso é uma diferença absurda."
      ],
      "metadata": {
        "id": "y3JEKZJEzbQw"
      }
    },
    {
      "cell_type": "markdown",
      "metadata": {
        "id": "cbaD3GgIOJTb"
      },
      "source": [
        "Faça novamente um novo modelo utilizando a seleção de caracteristicas, selecionando as 5 variaveis mais importantes."
      ]
    },
    {
      "cell_type": "code",
      "execution_count": null,
      "metadata": {
        "id": "CIsbjZY9OJTc"
      },
      "outputs": [],
      "source": [
        "#### (VALE 0.625 pontos)\n",
        "#### EXECUTE OS COMANDOS ABAIXO, USE MAIS CELULAS SE NECESSARIO\n",
        "\n",
        "estimator = LinearRegression()\n",
        "selector = RFE(estimator, n_features_to_select=5, step=1)\n",
        "selector = selector.fit(X, y)\n",
        "colunas_significantes = selector.get_feature_names_out()"
      ]
    },
    {
      "cell_type": "markdown",
      "metadata": {
        "id": "CJ5mdPbzOJTc"
      },
      "source": [
        "Quais são as 5 variaveis mais importantes deste conjunto de dados?"
      ]
    },
    {
      "cell_type": "code",
      "source": [
        "print(colunas_significantes)"
      ],
      "metadata": {
        "id": "V43GutUJPDA7",
        "colab": {
          "base_uri": "https://localhost:8080/"
        },
        "outputId": "c31fef84-b752-41f1-eca4-98138bbf3907"
      },
      "execution_count": null,
      "outputs": [
        {
          "output_type": "stream",
          "name": "stdout",
          "text": [
            "['sqft_living' 'waterfront' 'sqft_above' 'sqft_basement' 'lat']\n"
          ]
        }
      ]
    },
    {
      "cell_type": "markdown",
      "metadata": {
        "id": "AEfTnWXzOJTc"
      },
      "source": [
        "**RESPOSTA** (VALE 0.5 pontos): (responda aqui, dê dois cliques para editar)"
      ]
    },
    {
      "cell_type": "markdown",
      "source": [
        "Olhando para essas 5 variáveis que o programa selecionou por serem as mais significantes, surge algumas perguntas, porque o número de banheiros e o número de quartos não estão entre elas. Mas com certeza a primeira ninguém discute, é a 'sqft_living', área das casas"
      ],
      "metadata": {
        "id": "y8ETh1osPJ05"
      }
    },
    {
      "cell_type": "markdown",
      "source": [
        "Só para entender vamos ver o gráfico dos banheiros e dos quartos aqui"
      ],
      "metadata": {
        "id": "SWSCnlHp04_g"
      }
    },
    {
      "cell_type": "code",
      "source": [
        "plt.scatter(house['bathrooms'],house['price'],s=5)"
      ],
      "metadata": {
        "colab": {
          "base_uri": "https://localhost:8080/",
          "height": 293
        },
        "id": "9zMp0rA21Fyv",
        "outputId": "a5288b50-6396-40fd-850d-22faefe6d179"
      },
      "execution_count": null,
      "outputs": [
        {
          "output_type": "execute_result",
          "data": {
            "text/plain": [
              "<matplotlib.collections.PathCollection at 0x7fa9f9f46e90>"
            ]
          },
          "metadata": {},
          "execution_count": 39
        },
        {
          "output_type": "display_data",
          "data": {
            "text/plain": [
              "<Figure size 432x288 with 1 Axes>"
            ],
            "image/png": "[encoded data removed]"
          },
          "metadata": {}
        }
      ]
    },
    {
      "cell_type": "code",
      "source": [
        "plt.scatter(house['bedrooms'],house['price'],s=5)"
      ],
      "metadata": {
        "colab": {
          "base_uri": "https://localhost:8080/",
          "height": 293
        },
        "id": "zEGOazVG1UI_",
        "outputId": "e364c051-744c-4eb5-e603-b1172ccfc60f"
      },
      "execution_count": null,
      "outputs": [
        {
          "output_type": "execute_result",
          "data": {
            "text/plain": [
              "<matplotlib.collections.PathCollection at 0x7fa9f56748d0>"
            ]
          },
          "metadata": {},
          "execution_count": 40
        },
        {
          "output_type": "display_data",
          "data": {
            "text/plain": [
              "<Figure size 432x288 with 1 Axes>"
            ],
            "image/png": "[encoded data removed]"
          },
          "metadata": {}
        }
      ]
    },
    {
      "cell_type": "markdown",
      "source": [
        "E para nossa surpresa e talvez nem tanto das pessoas que trabalham e tem o conhecimento da área, essas duas variáveis realmente não tem uma relação muito direta. Com toda certeza elas têm interferência no preço e acredito que nunca deveriam ficar fora de um modelo, porem vendo os gráficos, é nítido que tem outras variaveis que fazem mais diferença diretamente no preço."
      ],
      "metadata": {
        "id": "nWRwenj51YmN"
      }
    },
    {
      "cell_type": "markdown",
      "source": [
        "Porem para conhecimento e aprendizagem vamos olhar como vai se comportar o modelo com essas 5 variáveis selecionadas"
      ],
      "metadata": {
        "id": "Mk3N-cQx1zCw"
      }
    },
    {
      "cell_type": "markdown",
      "source": [
        "MODELO 2"
      ],
      "metadata": {
        "id": "iZVp4wl4NlBn"
      }
    },
    {
      "cell_type": "markdown",
      "source": [
        "Vamos criar um modelo para essas novas colunas"
      ],
      "metadata": {
        "id": "YCHUgfun2Yde"
      }
    },
    {
      "cell_type": "code",
      "source": [
        "X = house[colunas_significantes]"
      ],
      "metadata": {
        "id": "zvzGAQuw2Vt7"
      },
      "execution_count": null,
      "outputs": []
    },
    {
      "cell_type": "markdown",
      "metadata": {
        "id": "QqROMGoqOJTc"
      },
      "source": [
        "Qual o valor de ${R}^{2}$ e $MAE$ deste novo modelo? Este modelo é melhor do que o anterior?"
      ]
    },
    {
      "cell_type": "code",
      "source": [
        "modelo = \"modelo 2\"\n",
        "metodo_sklearn(X,y,modelo)"
      ],
      "metadata": {
        "id": "nhdNtadCOhrf",
        "colab": {
          "base_uri": "https://localhost:8080/",
          "height": 112
        },
        "outputId": "8655ad3b-80cd-4747-b7ce-bf708b2bc156"
      },
      "execution_count": null,
      "outputs": [
        {
          "output_type": "execute_result",
          "data": {
            "text/plain": [
              "  Métrica     Modelo 1     modelo 2\n",
              "0      R²       0.7028       0.6242\n",
              "1     MAE  123571.1445  147232.9987"
            ],
            "text/html": [
              "\n",
              "  <div id=\"df-7a3009d0-4ea2-4840-9fc1-7c87af0b0f94\">\n",
              "    <div class=\"colab-df-container\">\n",
              "      <div>\n",
              "<style scoped>\n",
              "    .dataframe tbody tr th:only-of-type {\n",
              "        vertical-align: middle;\n",
              "    }\n",
              "\n",
              "    .dataframe tbody tr th {\n",
              "        vertical-align: top;\n",
              "    }\n",
              "\n",
              "    .dataframe thead th {\n",
              "        text-align: right;\n",
              "    }\n",
              "</style>\n",
              "<table border=\"1\" class=\"dataframe\">\n",
              "  <thead>\n",
              "    <tr style=\"text-align: right;\">\n",
              "      <th></th>\n",
              "      <th>Métrica</th>\n",
              "      <th>Modelo 1</th>\n",
              "      <th>modelo 2</th>\n",
              "    </tr>\n",
              "  </thead>\n",
              "  <tbody>\n",
              "    <tr>\n",
              "      <th>0</th>\n",
              "      <td>R²</td>\n",
              "      <td>0.7028</td>\n",
              "      <td>0.6242</td>\n",
              "    </tr>\n",
              "    <tr>\n",
              "      <th>1</th>\n",
              "      <td>MAE</td>\n",
              "      <td>123571.1445</td>\n",
              "      <td>147232.9987</td>\n",
              "    </tr>\n",
              "  </tbody>\n",
              "</table>\n",
              "</div>\n",
              "      <button class=\"colab-df-convert\" onclick=\"convertToInteractive('df-7a3009d0-4ea2-4840-9fc1-7c87af0b0f94')\"\n",
              "              title=\"Convert this dataframe to an interactive table.\"\n",
              "              style=\"display:none;\">\n",
              "        \n",
              "  <svg xmlns=\"http://www.w3.org/2000/svg\" height=\"24px\"viewBox=\"0 0 24 24\"\n",
              "       width=\"24px\">\n",
              "    <path d=\"M0 0h24v24H0V0z\" fill=\"none\"/>\n",
              "    <path d=\"M18.56 5.44l.94 2.06.94-2.06 2.06-.94-2.06-.94-.94-2.06-.94 2.06-2.06.94zm-11 1L8.5 8.5l.94-2.06 2.06-.94-2.06-.94L8.5 2.5l-.94 2.06-2.06.94zm10 10l.94 2.06.94-2.06 2.06-.94-2.06-.94-.94-2.06-.94 2.06-2.06.94z\"/><path d=\"M17.41 7.96l-1.37-1.37c-.4-.4-.92-.59-1.43-.59-.52 0-1.04.2-1.43.59L10.3 9.45l-7.72 7.72c-.78.78-.78 2.05 0 2.83L4 21.41c.39.39.9.59 1.41.59.51 0 1.02-.2 1.41-.59l7.78-7.78 2.81-2.81c.8-.78.8-2.07 0-2.86zM5.41 20L4 18.59l7.72-7.72 1.47 1.35L5.41 20z\"/>\n",
              "  </svg>\n",
              "      </button>\n",
              "      \n",
              "  <style>\n",
              "    .colab-df-container {\n",
              "      display:flex;\n",
              "      flex-wrap:wrap;\n",
              "      gap: 12px;\n",
              "    }\n",
              "\n",
              "    .colab-df-convert {\n",
              "      background-color: #E8F0FE;\n",
              "      border: none;\n",
              "      border-radius: 50%;\n",
              "      cursor: pointer;\n",
              "      display: none;\n",
              "      fill: #1967D2;\n",
              "      height: 32px;\n",
              "      padding: 0 0 0 0;\n",
              "      width: 32px;\n",
              "    }\n",
              "\n",
              "    .colab-df-convert:hover {\n",
              "      background-color: #E2EBFA;\n",
              "      box-shadow: 0px 1px 2px rgba(60, 64, 67, 0.3), 0px 1px 3px 1px rgba(60, 64, 67, 0.15);\n",
              "      fill: #174EA6;\n",
              "    }\n",
              "\n",
              "    [theme=dark] .colab-df-convert {\n",
              "      background-color: #3B4455;\n",
              "      fill: #D2E3FC;\n",
              "    }\n",
              "\n",
              "    [theme=dark] .colab-df-convert:hover {\n",
              "      background-color: #434B5C;\n",
              "      box-shadow: 0px 1px 3px 1px rgba(0, 0, 0, 0.15);\n",
              "      filter: drop-shadow(0px 1px 2px rgba(0, 0, 0, 0.3));\n",
              "      fill: #FFFFFF;\n",
              "    }\n",
              "  </style>\n",
              "\n",
              "      <script>\n",
              "        const buttonEl =\n",
              "          document.querySelector('#df-7a3009d0-4ea2-4840-9fc1-7c87af0b0f94 button.colab-df-convert');\n",
              "        buttonEl.style.display =\n",
              "          google.colab.kernel.accessAllowed ? 'block' : 'none';\n",
              "\n",
              "        async function convertToInteractive(key) {\n",
              "          const element = document.querySelector('#df-7a3009d0-4ea2-4840-9fc1-7c87af0b0f94');\n",
              "          const dataTable =\n",
              "            await google.colab.kernel.invokeFunction('convertToInteractive',\n",
              "                                                     [key], {});\n",
              "          if (!dataTable) return;\n",
              "\n",
              "          const docLinkHtml = 'Like what you see? Visit the ' +\n",
              "            '<a target=\"_blank\" href=https://colab.research.google.com/notebooks/data_table.ipynb>data table notebook</a>'\n",
              "            + ' to learn more about interactive tables.';\n",
              "          element.innerHTML = '';\n",
              "          dataTable['output_type'] = 'display_data';\n",
              "          await google.colab.output.renderOutput(dataTable, element);\n",
              "          const docLink = document.createElement('div');\n",
              "          docLink.innerHTML = docLinkHtml;\n",
              "          element.appendChild(docLink);\n",
              "        }\n",
              "      </script>\n",
              "    </div>\n",
              "  </div>\n",
              "  "
            ]
          },
          "metadata": {},
          "execution_count": 42
        }
      ]
    },
    {
      "cell_type": "markdown",
      "metadata": {
        "id": "ZOr-0gEjOJTc"
      },
      "source": [
        "**RESPOSTA** (VALE 0.5 pontos): (responda aqui, dê dois cliques para editar)"
      ]
    },
    {
      "cell_type": "markdown",
      "source": [
        "Como já era de se esperar o modelo acabou piorando, como foi dito anteriormente, é melhor muitas vezes trabalhar com todos os dados do que somente com os mais significantes, acabamos deixando muita informação pelo caminho."
      ],
      "metadata": {
        "id": "6dzu-RRdQD-S"
      }
    },
    {
      "cell_type": "markdown",
      "source": [
        "Porem vamos tentar, usando o nosso conhecimento obtido nesse trabalho para tentar outros modelos, talvez tirando a comparação das áreas que foi vista e criada neste nosso trabalho."
      ],
      "metadata": {
        "id": "sC_tjJHT29q0"
      }
    },
    {
      "cell_type": "code",
      "source": [
        "X = house.drop(columns = ['price','comp_living'])"
      ],
      "metadata": {
        "id": "q_26jctM3SSm"
      },
      "execution_count": null,
      "outputs": []
    },
    {
      "cell_type": "code",
      "source": [
        "X.head()"
      ],
      "metadata": {
        "id": "fFbkYt303vJe",
        "colab": {
          "base_uri": "https://localhost:8080/",
          "height": 270
        },
        "outputId": "1ca4d298-b006-4985-9927-c750ccbd8b30"
      },
      "execution_count": null,
      "outputs": [
        {
          "output_type": "execute_result",
          "data": {
            "text/plain": [
              "   bedrooms  bathrooms  sqft_living  sqft_lot  floors  waterfront  view  \\\n",
              "0         3       1.00       109.63    524.90     1.0           0     0   \n",
              "1         3       2.25       238.76    672.80     2.0           0     0   \n",
              "2         2       1.00        71.54    929.03     1.0           0     0   \n",
              "3         4       3.00       182.09    464.52     1.0           0     0   \n",
              "4         3       2.00       156.08    750.66     1.0           0     0   \n",
              "\n",
              "   condition  grade  sqft_above  sqft_basement  yr_built  yr_renovated  \\\n",
              "0          3      7      109.63           0.00      1955             0   \n",
              "1          3      7      201.60          37.16      1951          1991   \n",
              "2          3      6       71.54           0.00      1933             0   \n",
              "3          5      7       97.55          84.54      1965             0   \n",
              "4          3      8      156.08           0.00      1987             0   \n",
              "\n",
              "   zipcode      lat     long  sqft_living15  sqft_lot15  \n",
              "0    98178  47.5112 -122.257         124.49      524.90  \n",
              "1    98125  47.7210 -122.319         157.01      709.69  \n",
              "2    98028  47.7379 -122.233         252.70      748.98  \n",
              "3    98136  47.5208 -122.393         126.35      464.52  \n",
              "4    98074  47.6168 -122.045         167.23      697.05  "
            ],
            "text/html": [
              "\n",
              "  <div id=\"df-69554d6b-2a0f-465c-a0e9-8cef33afb9e4\">\n",
              "    <div class=\"colab-df-container\">\n",
              "      <div>\n",
              "<style scoped>\n",
              "    .dataframe tbody tr th:only-of-type {\n",
              "        vertical-align: middle;\n",
              "    }\n",
              "\n",
              "    .dataframe tbody tr th {\n",
              "        vertical-align: top;\n",
              "    }\n",
              "\n",
              "    .dataframe thead th {\n",
              "        text-align: right;\n",
              "    }\n",
              "</style>\n",
              "<table border=\"1\" class=\"dataframe\">\n",
              "  <thead>\n",
              "    <tr style=\"text-align: right;\">\n",
              "      <th></th>\n",
              "      <th>bedrooms</th>\n",
              "      <th>bathrooms</th>\n",
              "      <th>sqft_living</th>\n",
              "      <th>sqft_lot</th>\n",
              "      <th>floors</th>\n",
              "      <th>waterfront</th>\n",
              "      <th>view</th>\n",
              "      <th>condition</th>\n",
              "      <th>grade</th>\n",
              "      <th>sqft_above</th>\n",
              "      <th>sqft_basement</th>\n",
              "      <th>yr_built</th>\n",
              "      <th>yr_renovated</th>\n",
              "      <th>zipcode</th>\n",
              "      <th>lat</th>\n",
              "      <th>long</th>\n",
              "      <th>sqft_living15</th>\n",
              "      <th>sqft_lot15</th>\n",
              "    </tr>\n",
              "  </thead>\n",
              "  <tbody>\n",
              "    <tr>\n",
              "      <th>0</th>\n",
              "      <td>3</td>\n",
              "      <td>1.00</td>\n",
              "      <td>109.63</td>\n",
              "      <td>524.90</td>\n",
              "      <td>1.0</td>\n",
              "      <td>0</td>\n",
              "      <td>0</td>\n",
              "      <td>3</td>\n",
              "      <td>7</td>\n",
              "      <td>109.63</td>\n",
              "      <td>0.00</td>\n",
              "      <td>1955</td>\n",
              "      <td>0</td>\n",
              "      <td>98178</td>\n",
              "      <td>47.5112</td>\n",
              "      <td>-122.257</td>\n",
              "      <td>124.49</td>\n",
              "      <td>524.90</td>\n",
              "    </tr>\n",
              "    <tr>\n",
              "      <th>1</th>\n",
              "      <td>3</td>\n",
              "      <td>2.25</td>\n",
              "      <td>238.76</td>\n",
              "      <td>672.80</td>\n",
              "      <td>2.0</td>\n",
              "      <td>0</td>\n",
              "      <td>0</td>\n",
              "      <td>3</td>\n",
              "      <td>7</td>\n",
              "      <td>201.60</td>\n",
              "      <td>37.16</td>\n",
              "      <td>1951</td>\n",
              "      <td>1991</td>\n",
              "      <td>98125</td>\n",
              "      <td>47.7210</td>\n",
              "      <td>-122.319</td>\n",
              "      <td>157.01</td>\n",
              "      <td>709.69</td>\n",
              "    </tr>\n",
              "    <tr>\n",
              "      <th>2</th>\n",
              "      <td>2</td>\n",
              "      <td>1.00</td>\n",
              "      <td>71.54</td>\n",
              "      <td>929.03</td>\n",
              "      <td>1.0</td>\n",
              "      <td>0</td>\n",
              "      <td>0</td>\n",
              "      <td>3</td>\n",
              "      <td>6</td>\n",
              "      <td>71.54</td>\n",
              "      <td>0.00</td>\n",
              "      <td>1933</td>\n",
              "      <td>0</td>\n",
              "      <td>98028</td>\n",
              "      <td>47.7379</td>\n",
              "      <td>-122.233</td>\n",
              "      <td>252.70</td>\n",
              "      <td>748.98</td>\n",
              "    </tr>\n",
              "    <tr>\n",
              "      <th>3</th>\n",
              "      <td>4</td>\n",
              "      <td>3.00</td>\n",
              "      <td>182.09</td>\n",
              "      <td>464.52</td>\n",
              "      <td>1.0</td>\n",
              "      <td>0</td>\n",
              "      <td>0</td>\n",
              "      <td>5</td>\n",
              "      <td>7</td>\n",
              "      <td>97.55</td>\n",
              "      <td>84.54</td>\n",
              "      <td>1965</td>\n",
              "      <td>0</td>\n",
              "      <td>98136</td>\n",
              "      <td>47.5208</td>\n",
              "      <td>-122.393</td>\n",
              "      <td>126.35</td>\n",
              "      <td>464.52</td>\n",
              "    </tr>\n",
              "    <tr>\n",
              "      <th>4</th>\n",
              "      <td>3</td>\n",
              "      <td>2.00</td>\n",
              "      <td>156.08</td>\n",
              "      <td>750.66</td>\n",
              "      <td>1.0</td>\n",
              "      <td>0</td>\n",
              "      <td>0</td>\n",
              "      <td>3</td>\n",
              "      <td>8</td>\n",
              "      <td>156.08</td>\n",
              "      <td>0.00</td>\n",
              "      <td>1987</td>\n",
              "      <td>0</td>\n",
              "      <td>98074</td>\n",
              "      <td>47.6168</td>\n",
              "      <td>-122.045</td>\n",
              "      <td>167.23</td>\n",
              "      <td>697.05</td>\n",
              "    </tr>\n",
              "  </tbody>\n",
              "</table>\n",
              "</div>\n",
              "      <button class=\"colab-df-convert\" onclick=\"convertToInteractive('df-69554d6b-2a0f-465c-a0e9-8cef33afb9e4')\"\n",
              "              title=\"Convert this dataframe to an interactive table.\"\n",
              "              style=\"display:none;\">\n",
              "        \n",
              "  <svg xmlns=\"http://www.w3.org/2000/svg\" height=\"24px\"viewBox=\"0 0 24 24\"\n",
              "       width=\"24px\">\n",
              "    <path d=\"M0 0h24v24H0V0z\" fill=\"none\"/>\n",
              "    <path d=\"M18.56 5.44l.94 2.06.94-2.06 2.06-.94-2.06-.94-.94-2.06-.94 2.06-2.06.94zm-11 1L8.5 8.5l.94-2.06 2.06-.94-2.06-.94L8.5 2.5l-.94 2.06-2.06.94zm10 10l.94 2.06.94-2.06 2.06-.94-2.06-.94-.94-2.06-.94 2.06-2.06.94z\"/><path d=\"M17.41 7.96l-1.37-1.37c-.4-.4-.92-.59-1.43-.59-.52 0-1.04.2-1.43.59L10.3 9.45l-7.72 7.72c-.78.78-.78 2.05 0 2.83L4 21.41c.39.39.9.59 1.41.59.51 0 1.02-.2 1.41-.59l7.78-7.78 2.81-2.81c.8-.78.8-2.07 0-2.86zM5.41 20L4 18.59l7.72-7.72 1.47 1.35L5.41 20z\"/>\n",
              "  </svg>\n",
              "      </button>\n",
              "      \n",
              "  <style>\n",
              "    .colab-df-container {\n",
              "      display:flex;\n",
              "      flex-wrap:wrap;\n",
              "      gap: 12px;\n",
              "    }\n",
              "\n",
              "    .colab-df-convert {\n",
              "      background-color: #E8F0FE;\n",
              "      border: none;\n",
              "      border-radius: 50%;\n",
              "      cursor: pointer;\n",
              "      display: none;\n",
              "      fill: #1967D2;\n",
              "      height: 32px;\n",
              "      padding: 0 0 0 0;\n",
              "      width: 32px;\n",
              "    }\n",
              "\n",
              "    .colab-df-convert:hover {\n",
              "      background-color: #E2EBFA;\n",
              "      box-shadow: 0px 1px 2px rgba(60, 64, 67, 0.3), 0px 1px 3px 1px rgba(60, 64, 67, 0.15);\n",
              "      fill: #174EA6;\n",
              "    }\n",
              "\n",
              "    [theme=dark] .colab-df-convert {\n",
              "      background-color: #3B4455;\n",
              "      fill: #D2E3FC;\n",
              "    }\n",
              "\n",
              "    [theme=dark] .colab-df-convert:hover {\n",
              "      background-color: #434B5C;\n",
              "      box-shadow: 0px 1px 3px 1px rgba(0, 0, 0, 0.15);\n",
              "      filter: drop-shadow(0px 1px 2px rgba(0, 0, 0, 0.3));\n",
              "      fill: #FFFFFF;\n",
              "    }\n",
              "  </style>\n",
              "\n",
              "      <script>\n",
              "        const buttonEl =\n",
              "          document.querySelector('#df-69554d6b-2a0f-465c-a0e9-8cef33afb9e4 button.colab-df-convert');\n",
              "        buttonEl.style.display =\n",
              "          google.colab.kernel.accessAllowed ? 'block' : 'none';\n",
              "\n",
              "        async function convertToInteractive(key) {\n",
              "          const element = document.querySelector('#df-69554d6b-2a0f-465c-a0e9-8cef33afb9e4');\n",
              "          const dataTable =\n",
              "            await google.colab.kernel.invokeFunction('convertToInteractive',\n",
              "                                                     [key], {});\n",
              "          if (!dataTable) return;\n",
              "\n",
              "          const docLinkHtml = 'Like what you see? Visit the ' +\n",
              "            '<a target=\"_blank\" href=https://colab.research.google.com/notebooks/data_table.ipynb>data table notebook</a>'\n",
              "            + ' to learn more about interactive tables.';\n",
              "          element.innerHTML = '';\n",
              "          dataTable['output_type'] = 'display_data';\n",
              "          await google.colab.output.renderOutput(dataTable, element);\n",
              "          const docLink = document.createElement('div');\n",
              "          docLink.innerHTML = docLinkHtml;\n",
              "          element.appendChild(docLink);\n",
              "        }\n",
              "      </script>\n",
              "    </div>\n",
              "  </div>\n",
              "  "
            ]
          },
          "metadata": {},
          "execution_count": 45
        }
      ]
    },
    {
      "cell_type": "code",
      "source": [
        "modelo = \"modelo 3\"\n",
        "metodo_sklearn(X,y,modelo)"
      ],
      "metadata": {
        "colab": {
          "base_uri": "https://localhost:8080/",
          "height": 112
        },
        "id": "Qall7Vrk3lNW",
        "outputId": "bd227ea4-5838-4f6f-ab24-87a92ef60fb4"
      },
      "execution_count": null,
      "outputs": [
        {
          "output_type": "execute_result",
          "data": {
            "text/plain": [
              "  Métrica     Modelo 1     modelo 2     modelo 3\n",
              "0      R²       0.7028       0.6242       0.7028\n",
              "1     MAE  123571.1445  147232.9987  123571.1445"
            ],
            "text/html": [
              "\n",
              "  <div id=\"df-93e46a6b-7698-48ec-8a4a-2f37d6463075\">\n",
              "    <div class=\"colab-df-container\">\n",
              "      <div>\n",
              "<style scoped>\n",
              "    .dataframe tbody tr th:only-of-type {\n",
              "        vertical-align: middle;\n",
              "    }\n",
              "\n",
              "    .dataframe tbody tr th {\n",
              "        vertical-align: top;\n",
              "    }\n",
              "\n",
              "    .dataframe thead th {\n",
              "        text-align: right;\n",
              "    }\n",
              "</style>\n",
              "<table border=\"1\" class=\"dataframe\">\n",
              "  <thead>\n",
              "    <tr style=\"text-align: right;\">\n",
              "      <th></th>\n",
              "      <th>Métrica</th>\n",
              "      <th>Modelo 1</th>\n",
              "      <th>modelo 2</th>\n",
              "      <th>modelo 3</th>\n",
              "    </tr>\n",
              "  </thead>\n",
              "  <tbody>\n",
              "    <tr>\n",
              "      <th>0</th>\n",
              "      <td>R²</td>\n",
              "      <td>0.7028</td>\n",
              "      <td>0.6242</td>\n",
              "      <td>0.7028</td>\n",
              "    </tr>\n",
              "    <tr>\n",
              "      <th>1</th>\n",
              "      <td>MAE</td>\n",
              "      <td>123571.1445</td>\n",
              "      <td>147232.9987</td>\n",
              "      <td>123571.1445</td>\n",
              "    </tr>\n",
              "  </tbody>\n",
              "</table>\n",
              "</div>\n",
              "      <button class=\"colab-df-convert\" onclick=\"convertToInteractive('df-93e46a6b-7698-48ec-8a4a-2f37d6463075')\"\n",
              "              title=\"Convert this dataframe to an interactive table.\"\n",
              "              style=\"display:none;\">\n",
              "        \n",
              "  <svg xmlns=\"http://www.w3.org/2000/svg\" height=\"24px\"viewBox=\"0 0 24 24\"\n",
              "       width=\"24px\">\n",
              "    <path d=\"M0 0h24v24H0V0z\" fill=\"none\"/>\n",
              "    <path d=\"M18.56 5.44l.94 2.06.94-2.06 2.06-.94-2.06-.94-.94-2.06-.94 2.06-2.06.94zm-11 1L8.5 8.5l.94-2.06 2.06-.94-2.06-.94L8.5 2.5l-.94 2.06-2.06.94zm10 10l.94 2.06.94-2.06 2.06-.94-2.06-.94-.94-2.06-.94 2.06-2.06.94z\"/><path d=\"M17.41 7.96l-1.37-1.37c-.4-.4-.92-.59-1.43-.59-.52 0-1.04.2-1.43.59L10.3 9.45l-7.72 7.72c-.78.78-.78 2.05 0 2.83L4 21.41c.39.39.9.59 1.41.59.51 0 1.02-.2 1.41-.59l7.78-7.78 2.81-2.81c.8-.78.8-2.07 0-2.86zM5.41 20L4 18.59l7.72-7.72 1.47 1.35L5.41 20z\"/>\n",
              "  </svg>\n",
              "      </button>\n",
              "      \n",
              "  <style>\n",
              "    .colab-df-container {\n",
              "      display:flex;\n",
              "      flex-wrap:wrap;\n",
              "      gap: 12px;\n",
              "    }\n",
              "\n",
              "    .colab-df-convert {\n",
              "      background-color: #E8F0FE;\n",
              "      border: none;\n",
              "      border-radius: 50%;\n",
              "      cursor: pointer;\n",
              "      display: none;\n",
              "      fill: #1967D2;\n",
              "      height: 32px;\n",
              "      padding: 0 0 0 0;\n",
              "      width: 32px;\n",
              "    }\n",
              "\n",
              "    .colab-df-convert:hover {\n",
              "      background-color: #E2EBFA;\n",
              "      box-shadow: 0px 1px 2px rgba(60, 64, 67, 0.3), 0px 1px 3px 1px rgba(60, 64, 67, 0.15);\n",
              "      fill: #174EA6;\n",
              "    }\n",
              "\n",
              "    [theme=dark] .colab-df-convert {\n",
              "      background-color: #3B4455;\n",
              "      fill: #D2E3FC;\n",
              "    }\n",
              "\n",
              "    [theme=dark] .colab-df-convert:hover {\n",
              "      background-color: #434B5C;\n",
              "      box-shadow: 0px 1px 3px 1px rgba(0, 0, 0, 0.15);\n",
              "      filter: drop-shadow(0px 1px 2px rgba(0, 0, 0, 0.3));\n",
              "      fill: #FFFFFF;\n",
              "    }\n",
              "  </style>\n",
              "\n",
              "      <script>\n",
              "        const buttonEl =\n",
              "          document.querySelector('#df-93e46a6b-7698-48ec-8a4a-2f37d6463075 button.colab-df-convert');\n",
              "        buttonEl.style.display =\n",
              "          google.colab.kernel.accessAllowed ? 'block' : 'none';\n",
              "\n",
              "        async function convertToInteractive(key) {\n",
              "          const element = document.querySelector('#df-93e46a6b-7698-48ec-8a4a-2f37d6463075');\n",
              "          const dataTable =\n",
              "            await google.colab.kernel.invokeFunction('convertToInteractive',\n",
              "                                                     [key], {});\n",
              "          if (!dataTable) return;\n",
              "\n",
              "          const docLinkHtml = 'Like what you see? Visit the ' +\n",
              "            '<a target=\"_blank\" href=https://colab.research.google.com/notebooks/data_table.ipynb>data table notebook</a>'\n",
              "            + ' to learn more about interactive tables.';\n",
              "          element.innerHTML = '';\n",
              "          dataTable['output_type'] = 'display_data';\n",
              "          await google.colab.output.renderOutput(dataTable, element);\n",
              "          const docLink = document.createElement('div');\n",
              "          docLink.innerHTML = docLinkHtml;\n",
              "          element.appendChild(docLink);\n",
              "        }\n",
              "      </script>\n",
              "    </div>\n",
              "  </div>\n",
              "  "
            ]
          },
          "metadata": {},
          "execution_count": 46
        }
      ]
    },
    {
      "cell_type": "markdown",
      "source": [
        "Por incrível que pareça não teve nenhuma diferença, acredito ser porque ele é dependente de outra variável independente, logo para o método ele não faz diferença nenhuma."
      ],
      "metadata": {
        "id": "P_Ur9L-O3z0D"
      }
    },
    {
      "cell_type": "markdown",
      "source": [
        "Para finalizar o nosso trabalho vamos falar de possíveis melhorias que possam ajudar o nosso modelo a melhorar. Para começar, é interessante falar que tirar variáveis não seja interessante, mas então como melhorar, acreditamos que precisamos trabalhar melhor com estes dados. Vamos usar como exemplo o ZIPCODE, são números mas que na verdade estão classificadas como categóricas e isso é complicado para a regressão linear entender e tratar estes dados como deveriam. Então o objetivo para os próximos trabalhos é, entender melhor como a regressão linear trabalha e aprender como entrar com os dados o mais corretamente possível, para método nos devolver um modelo o mais preciso possível."
      ],
      "metadata": {
        "id": "dkknHbb56Qw4"
      }
    }
  ],
  "metadata": {
    "kernelspec": {
      "display_name": "Python 3",
      "language": "python",
      "name": "python3"
    },
    "language_info": {
      "codemirror_mode": {
        "name": "ipython",
        "version": 3
      },
      "file_extension": ".py",
      "mimetype": "text/x-python",
      "name": "python",
      "nbconvert_exporter": "python",
      "pygments_lexer": "ipython3",
      "version": "3.8.3"
    },
    "colab": {
      "name": "Módulo 2 - Projeto 1 - Regressão Linear - Predição_da_precificação_de_casas",
      "provenance": [],
      "collapsed_sections": [
        "Bz4P4n0wOJTS"
      ]
    }
  },
  "nbformat": 4,
  "nbformat_minor": 0
}